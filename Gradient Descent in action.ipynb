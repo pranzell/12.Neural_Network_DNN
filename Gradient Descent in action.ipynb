{
 "cells": [
  {
   "cell_type": "markdown",
   "metadata": {},
   "source": [
    "# Gradient Descent:  Feed Forwarding + Back Propogation"
   ]
  },
  {
   "cell_type": "markdown",
   "metadata": {},
   "source": [
    "~~~~ \n",
    "\n",
    "An Example showing python code for a single layer neural network implementing Gradient Descent Algorithm and explaining feed forwarding and back propogation.\n",
    "\n",
    "Gradient Descent is an algorithm which minimises a cost/loss function iteratively with a given set of parameters to find set of parameters which will minimise the cost function.\n",
    "\n",
    "It consists of two process - \n",
    "1. Feed Forwarding\n",
    "2. Back Propogation\n",
    "\n",
    "- Feed Forwarding is the process of moving forward calculating activation values and producing a \n",
    "  final result.\n",
    "\n",
    "- Back Propogation is applying chain rule iteratively in a backward direction to find the most \n",
    "  optimum weight values that can minimise the cost function.\n",
    "\n",
    "\n",
    "\n",
    "\n",
    "EXAMPLE TAKEN HERE ---\n",
    "\n",
    "- 4 Input Neurons:\n",
    "                    X1 (W1,W2,W3)\n",
    "                    X2 (W4,W5,W6)\n",
    "                    X3 (W7,W8,W9)\n",
    "                    X4 (W10,W11,W12)\n",
    "                    \n",
    "- 3 Hidden Neurons:\n",
    "                    N1: (X1.W1 + X2.W4 + X3.W7 + X4.W10)\n",
    "                    N2: (X1.W2 + X2.W5 + X3.W8 + X4.W11)\n",
    "                    N3: (X1.W3 + X2.W6 + X3.W9 + X4.W12)\n",
    "\n",
    "- 1 Output Neuron:\n",
    "                    O: N1.W13 + N2.W14 + N3.W15\n",
    "\n",
    "\n",
    "\n",
    "~~~~\n"
   ]
  },
  {
   "cell_type": "code",
   "execution_count": 204,
   "metadata": {
    "collapsed": true
   },
   "outputs": [],
   "source": [
    "import numpy as np\n",
    "import pandas as pd"
   ]
  },
  {
   "cell_type": "code",
   "execution_count": 205,
   "metadata": {
    "collapsed": true
   },
   "outputs": [],
   "source": [
    "X = pd.DataFrame([[0,0,0,1],[0,0,1,1],[0,1,1,1],[1,1,1,1],[0,1,0,1]], columns = ['X1', 'X2', 'X3', 'X4'])\n",
    "Y = pd.DataFrame([[0],[1],[1],[0],[1]], columns = ['Y'])"
   ]
  },
  {
   "cell_type": "markdown",
   "metadata": {},
   "source": [
    "### INPUT MATRIX"
   ]
  },
  {
   "cell_type": "code",
   "execution_count": 206,
   "metadata": {},
   "outputs": [
    {
     "data": {
      "text/html": [
       "<div>\n",
       "<table border=\"1\" class=\"dataframe\">\n",
       "  <thead>\n",
       "    <tr style=\"text-align: right;\">\n",
       "      <th></th>\n",
       "      <th>X1</th>\n",
       "      <th>X2</th>\n",
       "      <th>X3</th>\n",
       "      <th>X4</th>\n",
       "    </tr>\n",
       "  </thead>\n",
       "  <tbody>\n",
       "    <tr>\n",
       "      <th>0</th>\n",
       "      <td>0</td>\n",
       "      <td>0</td>\n",
       "      <td>0</td>\n",
       "      <td>1</td>\n",
       "    </tr>\n",
       "    <tr>\n",
       "      <th>1</th>\n",
       "      <td>0</td>\n",
       "      <td>0</td>\n",
       "      <td>1</td>\n",
       "      <td>1</td>\n",
       "    </tr>\n",
       "    <tr>\n",
       "      <th>2</th>\n",
       "      <td>0</td>\n",
       "      <td>1</td>\n",
       "      <td>1</td>\n",
       "      <td>1</td>\n",
       "    </tr>\n",
       "    <tr>\n",
       "      <th>3</th>\n",
       "      <td>1</td>\n",
       "      <td>1</td>\n",
       "      <td>1</td>\n",
       "      <td>1</td>\n",
       "    </tr>\n",
       "    <tr>\n",
       "      <th>4</th>\n",
       "      <td>0</td>\n",
       "      <td>1</td>\n",
       "      <td>0</td>\n",
       "      <td>1</td>\n",
       "    </tr>\n",
       "  </tbody>\n",
       "</table>\n",
       "</div>"
      ],
      "text/plain": [
       "   X1  X2  X3  X4\n",
       "0   0   0   0   1\n",
       "1   0   0   1   1\n",
       "2   0   1   1   1\n",
       "3   1   1   1   1\n",
       "4   0   1   0   1"
      ]
     },
     "execution_count": 206,
     "metadata": {},
     "output_type": "execute_result"
    }
   ],
   "source": [
    "''' Input Matrix:X;  Features:4;  Total_Observations:n (here, 5) '''\n",
    "X"
   ]
  },
  {
   "cell_type": "code",
   "execution_count": 231,
   "metadata": {},
   "outputs": [
    {
     "data": {
      "text/plain": [
       "array([[0, 0, 0, 1]])"
      ]
     },
     "execution_count": 231,
     "metadata": {},
     "output_type": "execute_result"
    }
   ],
   "source": [
    "''' WORK FLOW - \n",
    "\n",
    "    First set of input neurons:     2nd Set of Input Neurons:\n",
    "    Input1 Neuron = 0               Input1 Neuron = 0\n",
    "    Input2 Neuron = 0               Input2 Neuron = 0 \n",
    "    Input3 Neuron = 0               Input3 Neuron = 1\n",
    "    Input4 Neuron = 1               Input4 Neuron = 1\n",
    "\n",
    "'''\n",
    "\n",
    "X[0:1]"
   ]
  },
  {
   "cell_type": "markdown",
   "metadata": {},
   "source": [
    "### ACTUAL VALUES (ANSWERS)"
   ]
  },
  {
   "cell_type": "code",
   "execution_count": 208,
   "metadata": {},
   "outputs": [
    {
     "data": {
      "text/html": [
       "<div>\n",
       "<table border=\"1\" class=\"dataframe\">\n",
       "  <thead>\n",
       "    <tr style=\"text-align: right;\">\n",
       "      <th></th>\n",
       "      <th>Y</th>\n",
       "    </tr>\n",
       "  </thead>\n",
       "  <tbody>\n",
       "    <tr>\n",
       "      <th>0</th>\n",
       "      <td>0</td>\n",
       "    </tr>\n",
       "    <tr>\n",
       "      <th>1</th>\n",
       "      <td>1</td>\n",
       "    </tr>\n",
       "    <tr>\n",
       "      <th>2</th>\n",
       "      <td>1</td>\n",
       "    </tr>\n",
       "    <tr>\n",
       "      <th>3</th>\n",
       "      <td>0</td>\n",
       "    </tr>\n",
       "    <tr>\n",
       "      <th>4</th>\n",
       "      <td>1</td>\n",
       "    </tr>\n",
       "  </tbody>\n",
       "</table>\n",
       "</div>"
      ],
      "text/plain": [
       "   Y\n",
       "0  0\n",
       "1  1\n",
       "2  1\n",
       "3  0\n",
       "4  1"
      ]
     },
     "execution_count": 208,
     "metadata": {},
     "output_type": "execute_result"
    }
   ],
   "source": [
    "Y"
   ]
  },
  {
   "cell_type": "markdown",
   "metadata": {},
   "source": [
    "##### Converting Dataframes into Arrays for Dot products and further maths"
   ]
  },
  {
   "cell_type": "code",
   "execution_count": 209,
   "metadata": {
    "collapsed": true
   },
   "outputs": [],
   "source": [
    "X = np.array(X)\n",
    "Y = np.array(Y)"
   ]
  },
  {
   "cell_type": "markdown",
   "metadata": {},
   "source": [
    "### EPOCHS"
   ]
  },
  {
   "cell_type": "code",
   "execution_count": 230,
   "metadata": {
    "collapsed": true
   },
   "outputs": [],
   "source": [
    "# Set number of iterations(Epochs)\n",
    "epochs = 60000"
   ]
  },
  {
   "cell_type": "markdown",
   "metadata": {},
   "source": [
    "### WEIGHT MATRIX - W0,W1"
   ]
  },
  {
   "cell_type": "code",
   "execution_count": 220,
   "metadata": {
    "collapsed": true
   },
   "outputs": [],
   "source": [
    "# Initialize weights\n",
    "W0 = np.random.random((4,3))\n",
    "W1 = np.random.random((3,1))"
   ]
  },
  {
   "cell_type": "code",
   "execution_count": 221,
   "metadata": {},
   "outputs": [
    {
     "data": {
      "text/plain": [
       "array([[ 0.97527763,  0.08567679,  0.44735341],\n",
       "       [ 0.13711901,  0.39753707,  0.14015826],\n",
       "       [ 0.69410935,  0.43648641,  0.37923077],\n",
       "       [ 0.58148673,  0.60745446,  0.09625728]])"
      ]
     },
     "execution_count": 221,
     "metadata": {},
     "output_type": "execute_result"
    }
   ],
   "source": [
    "W0"
   ]
  },
  {
   "cell_type": "code",
   "execution_count": 222,
   "metadata": {},
   "outputs": [
    {
     "data": {
      "text/plain": [
       "array([[ 0.18841572],\n",
       "       [ 0.18038189],\n",
       "       [ 0.9357893 ]])"
      ]
     },
     "execution_count": 222,
     "metadata": {},
     "output_type": "execute_result"
    }
   ],
   "source": [
    "W1"
   ]
  },
  {
   "cell_type": "code",
   "execution_count": 223,
   "metadata": {
    "collapsed": true
   },
   "outputs": [],
   "source": [
    "# Activation Function = Sigmoid\n",
    "def activation_function(x, deriv=False):\n",
    "    \n",
    "    if(deriv == True):\n",
    "        sigmoid_derivative = x*(1-x)\n",
    "        return sigmoid_derivative\n",
    "\n",
    "    sigmoid = 1/(1+np.exp(-x))\n",
    "    return sigmoid"
   ]
  },
  {
   "cell_type": "code",
   "execution_count": 224,
   "metadata": {
    "scrolled": true
   },
   "outputs": [
    {
     "data": {
      "text/plain": [
       "array([0, 0, 0, 1])"
      ]
     },
     "execution_count": 224,
     "metadata": {},
     "output_type": "execute_result"
    }
   ],
   "source": [
    "X[0]"
   ]
  },
  {
   "cell_type": "code",
   "execution_count": 225,
   "metadata": {},
   "outputs": [
    {
     "data": {
      "text/plain": [
       "array([ 0.58148673,  0.60745446,  0.09625728])"
      ]
     },
     "execution_count": 225,
     "metadata": {},
     "output_type": "execute_result"
    }
   ],
   "source": [
    "X[0].dot(W0)"
   ]
  },
  {
   "cell_type": "code",
   "execution_count": 226,
   "metadata": {},
   "outputs": [
    {
     "data": {
      "text/plain": [
       "array([[ 0.58148673,  0.60745446,  0.09625728],\n",
       "       [ 1.27559609,  1.04394087,  0.47548804],\n",
       "       [ 1.4127151 ,  1.44147793,  0.6156463 ],\n",
       "       [ 2.38799273,  1.52715472,  1.06299971],\n",
       "       [ 0.71860575,  1.00499153,  0.23641553]])"
      ]
     },
     "execution_count": 226,
     "metadata": {},
     "output_type": "execute_result"
    }
   ],
   "source": [
    "X.dot(W0)"
   ]
  },
  {
   "cell_type": "code",
   "execution_count": 229,
   "metadata": {},
   "outputs": [
    {
     "name": "stdout",
     "output_type": "stream",
     "text": [
      "Error:0.00121625167325\n",
      "Error:0.0011781597001\n",
      "Error:0.00114335891183\n",
      "Error:0.00111140377325\n",
      "Error:0.00108192864222\n",
      "Error:0.00105463027306\n",
      "Error:0.00102925478188\n",
      "Error:0.00100558778935\n"
     ]
    }
   ],
   "source": [
    "for i in range(epochs):\n",
    "    \n",
    "    # Feed Forwarding- L0:Input Layer;  L1:Hidden Layer;  L2:Output Layer\n",
    "    L0 = X\n",
    "    L1 = activation_function(X.dot(W0))\n",
    "    L2 = activation_function(L1.dot(W1))\n",
    "    \n",
    "    # Error between the actual value and the predicted value\n",
    "    L2_error = Y - L2\n",
    "    \n",
    "    if(i % 10000) == 0:\n",
    "        print(\"Error:\" + str(np.mean(np.abs(L2_error))))\n",
    "    \n",
    "    # Backpropogated: dl/dz*dz/dx = next_error * derivative_of_sigmoid \n",
    "    L2_delta = L2_error * activation_function(L2, deriv=True)\n",
    "    \n",
    "    # How much did each L1 Value contribute to L2's error\n",
    "    L1_error = L2_delta.dot(W1.T)\n",
    "    \n",
    "    # Backpropogated:  dl/dz*dz/dx = next_error(L1) * derivative_of_sigmoid \n",
    "    L1_delta = L1_error * activation_function(L1, deriv=True)\n",
    "    \n",
    "    \n",
    "    # Updating Weights:\n",
    "    W0 = W0 + L0.T.dot(L1_delta)\n",
    "    W1 = W1 + L1.T.dot(L2_delta)"
   ]
  },
  {
   "cell_type": "markdown",
   "metadata": {
    "collapsed": true
   },
   "source": [
    "##### - Developed by Pranjal Pathak"
   ]
  }
 ],
 "metadata": {
  "kernelspec": {
   "display_name": "Python 3",
   "language": "python",
   "name": "python3"
  },
  "language_info": {
   "codemirror_mode": {
    "name": "ipython",
    "version": 3
   },
   "file_extension": ".py",
   "mimetype": "text/x-python",
   "name": "python",
   "nbconvert_exporter": "python",
   "pygments_lexer": "ipython3",
   "version": "3.6.0"
  }
 },
 "nbformat": 4,
 "nbformat_minor": 2
}
