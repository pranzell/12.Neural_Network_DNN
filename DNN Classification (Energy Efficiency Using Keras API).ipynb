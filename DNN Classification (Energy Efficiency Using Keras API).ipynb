{
 "cells": [
  {
   "cell_type": "markdown",
   "metadata": {},
   "source": [
    "~~~~~~~\n",
    "ENERGY EFFICIENCY - Inputs and Responses: Heating Loads(Y1) and Cooling Loads(Y2); \n",
    "\n",
    "Classification Problem using Deep Neural Networks with variable Hidden layers using KERAS API call\n",
    "\n",
    "~~~~~~~"
   ]
  },
  {
   "cell_type": "markdown",
   "metadata": {},
   "source": [
    "## Importing Packages"
   ]
  },
  {
   "cell_type": "code",
   "execution_count": 220,
   "metadata": {
    "collapsed": true
   },
   "outputs": [],
   "source": [
    "import numpy as np\n",
    "import pandas as pd\n",
    "import math\n",
    "import random\n",
    "\n",
    "import matplotlib.pyplot as plt\n",
    "%matplotlib inline\n",
    "\n",
    "# Keras --\n",
    "import keras\n",
    "from keras.models import Sequential\n",
    "from keras.layers import Dense\n",
    "from keras.optimizers import RMSprop\n",
    "\n",
    "# Scikit Learn --\n",
    "import sklearn\n",
    "from sklearn import cross_validation\n",
    "from sklearn.cross_validation import train_test_split"
   ]
  },
  {
   "cell_type": "markdown",
   "metadata": {},
   "source": [
    "## Loading Dataset"
   ]
  },
  {
   "cell_type": "code",
   "execution_count": 221,
   "metadata": {
    "collapsed": true
   },
   "outputs": [],
   "source": [
    "data = pd.read_excel('ENB2012_data.xlsx')"
   ]
  },
  {
   "cell_type": "markdown",
   "metadata": {},
   "source": [
    "## Exploring Dataset"
   ]
  },
  {
   "cell_type": "code",
   "execution_count": 222,
   "metadata": {
    "scrolled": true
   },
   "outputs": [
    {
     "data": {
      "text/html": [
       "<div>\n",
       "<table border=\"1\" class=\"dataframe\">\n",
       "  <thead>\n",
       "    <tr style=\"text-align: right;\">\n",
       "      <th></th>\n",
       "      <th>X1</th>\n",
       "      <th>X2</th>\n",
       "      <th>X3</th>\n",
       "      <th>X4</th>\n",
       "      <th>X5</th>\n",
       "      <th>X6</th>\n",
       "      <th>X7</th>\n",
       "      <th>X8</th>\n",
       "      <th>Y1</th>\n",
       "      <th>Y2</th>\n",
       "    </tr>\n",
       "  </thead>\n",
       "  <tbody>\n",
       "    <tr>\n",
       "      <th>0</th>\n",
       "      <td>0.98</td>\n",
       "      <td>514.5</td>\n",
       "      <td>294.0</td>\n",
       "      <td>110.25</td>\n",
       "      <td>7.0</td>\n",
       "      <td>2</td>\n",
       "      <td>0.0</td>\n",
       "      <td>0</td>\n",
       "      <td>15.55</td>\n",
       "      <td>21.33</td>\n",
       "    </tr>\n",
       "    <tr>\n",
       "      <th>1</th>\n",
       "      <td>0.98</td>\n",
       "      <td>514.5</td>\n",
       "      <td>294.0</td>\n",
       "      <td>110.25</td>\n",
       "      <td>7.0</td>\n",
       "      <td>3</td>\n",
       "      <td>0.0</td>\n",
       "      <td>0</td>\n",
       "      <td>15.55</td>\n",
       "      <td>21.33</td>\n",
       "    </tr>\n",
       "    <tr>\n",
       "      <th>2</th>\n",
       "      <td>0.98</td>\n",
       "      <td>514.5</td>\n",
       "      <td>294.0</td>\n",
       "      <td>110.25</td>\n",
       "      <td>7.0</td>\n",
       "      <td>4</td>\n",
       "      <td>0.0</td>\n",
       "      <td>0</td>\n",
       "      <td>15.55</td>\n",
       "      <td>21.33</td>\n",
       "    </tr>\n",
       "    <tr>\n",
       "      <th>3</th>\n",
       "      <td>0.98</td>\n",
       "      <td>514.5</td>\n",
       "      <td>294.0</td>\n",
       "      <td>110.25</td>\n",
       "      <td>7.0</td>\n",
       "      <td>5</td>\n",
       "      <td>0.0</td>\n",
       "      <td>0</td>\n",
       "      <td>15.55</td>\n",
       "      <td>21.33</td>\n",
       "    </tr>\n",
       "    <tr>\n",
       "      <th>4</th>\n",
       "      <td>0.90</td>\n",
       "      <td>563.5</td>\n",
       "      <td>318.5</td>\n",
       "      <td>122.50</td>\n",
       "      <td>7.0</td>\n",
       "      <td>2</td>\n",
       "      <td>0.0</td>\n",
       "      <td>0</td>\n",
       "      <td>20.84</td>\n",
       "      <td>28.28</td>\n",
       "    </tr>\n",
       "  </tbody>\n",
       "</table>\n",
       "</div>"
      ],
      "text/plain": [
       "     X1     X2     X3      X4   X5  X6   X7  X8     Y1     Y2\n",
       "0  0.98  514.5  294.0  110.25  7.0   2  0.0   0  15.55  21.33\n",
       "1  0.98  514.5  294.0  110.25  7.0   3  0.0   0  15.55  21.33\n",
       "2  0.98  514.5  294.0  110.25  7.0   4  0.0   0  15.55  21.33\n",
       "3  0.98  514.5  294.0  110.25  7.0   5  0.0   0  15.55  21.33\n",
       "4  0.90  563.5  318.5  122.50  7.0   2  0.0   0  20.84  28.28"
      ]
     },
     "execution_count": 222,
     "metadata": {},
     "output_type": "execute_result"
    }
   ],
   "source": [
    "data.head()"
   ]
  },
  {
   "cell_type": "code",
   "execution_count": 223,
   "metadata": {},
   "outputs": [
    {
     "name": "stdout",
     "output_type": "stream",
     "text": [
      "Observations = 768\n"
     ]
    }
   ],
   "source": [
    "print(\"Observations =\", data.shape[0])"
   ]
  },
  {
   "cell_type": "markdown",
   "metadata": {},
   "source": [
    "### Inputs Data Set"
   ]
  },
  {
   "cell_type": "code",
   "execution_count": 224,
   "metadata": {},
   "outputs": [
    {
     "data": {
      "text/html": [
       "<div>\n",
       "<table border=\"1\" class=\"dataframe\">\n",
       "  <thead>\n",
       "    <tr style=\"text-align: right;\">\n",
       "      <th></th>\n",
       "      <th>X1</th>\n",
       "      <th>X2</th>\n",
       "      <th>X3</th>\n",
       "      <th>X4</th>\n",
       "      <th>X5</th>\n",
       "      <th>X6</th>\n",
       "      <th>X7</th>\n",
       "      <th>X8</th>\n",
       "    </tr>\n",
       "  </thead>\n",
       "  <tbody>\n",
       "    <tr>\n",
       "      <th>0</th>\n",
       "      <td>0.98</td>\n",
       "      <td>514.5</td>\n",
       "      <td>294.0</td>\n",
       "      <td>110.25</td>\n",
       "      <td>7.0</td>\n",
       "      <td>2</td>\n",
       "      <td>0.0</td>\n",
       "      <td>0</td>\n",
       "    </tr>\n",
       "    <tr>\n",
       "      <th>1</th>\n",
       "      <td>0.98</td>\n",
       "      <td>514.5</td>\n",
       "      <td>294.0</td>\n",
       "      <td>110.25</td>\n",
       "      <td>7.0</td>\n",
       "      <td>3</td>\n",
       "      <td>0.0</td>\n",
       "      <td>0</td>\n",
       "    </tr>\n",
       "    <tr>\n",
       "      <th>2</th>\n",
       "      <td>0.98</td>\n",
       "      <td>514.5</td>\n",
       "      <td>294.0</td>\n",
       "      <td>110.25</td>\n",
       "      <td>7.0</td>\n",
       "      <td>4</td>\n",
       "      <td>0.0</td>\n",
       "      <td>0</td>\n",
       "    </tr>\n",
       "    <tr>\n",
       "      <th>3</th>\n",
       "      <td>0.98</td>\n",
       "      <td>514.5</td>\n",
       "      <td>294.0</td>\n",
       "      <td>110.25</td>\n",
       "      <td>7.0</td>\n",
       "      <td>5</td>\n",
       "      <td>0.0</td>\n",
       "      <td>0</td>\n",
       "    </tr>\n",
       "    <tr>\n",
       "      <th>4</th>\n",
       "      <td>0.90</td>\n",
       "      <td>563.5</td>\n",
       "      <td>318.5</td>\n",
       "      <td>122.50</td>\n",
       "      <td>7.0</td>\n",
       "      <td>2</td>\n",
       "      <td>0.0</td>\n",
       "      <td>0</td>\n",
       "    </tr>\n",
       "  </tbody>\n",
       "</table>\n",
       "</div>"
      ],
      "text/plain": [
       "     X1     X2     X3      X4   X5  X6   X7  X8\n",
       "0  0.98  514.5  294.0  110.25  7.0   2  0.0   0\n",
       "1  0.98  514.5  294.0  110.25  7.0   3  0.0   0\n",
       "2  0.98  514.5  294.0  110.25  7.0   4  0.0   0\n",
       "3  0.98  514.5  294.0  110.25  7.0   5  0.0   0\n",
       "4  0.90  563.5  318.5  122.50  7.0   2  0.0   0"
      ]
     },
     "execution_count": 224,
     "metadata": {},
     "output_type": "execute_result"
    }
   ],
   "source": [
    "X = data.iloc[:,0:8]\n",
    "X.head()"
   ]
  },
  {
   "cell_type": "markdown",
   "metadata": {},
   "source": [
    "### Response Data Set - Classifying Response Values as per Efficiency"
   ]
  },
  {
   "cell_type": "markdown",
   "metadata": {},
   "source": [
    "#### Response 1: Heating Load(Y1)"
   ]
  },
  {
   "cell_type": "code",
   "execution_count": 225,
   "metadata": {},
   "outputs": [
    {
     "data": {
      "text/html": [
       "<div>\n",
       "<table border=\"1\" class=\"dataframe\">\n",
       "  <thead>\n",
       "    <tr style=\"text-align: right;\">\n",
       "      <th></th>\n",
       "      <th>Y1</th>\n",
       "      <th>Efficiency_Y1</th>\n",
       "    </tr>\n",
       "  </thead>\n",
       "  <tbody>\n",
       "    <tr>\n",
       "      <th>0</th>\n",
       "      <td>15.55</td>\n",
       "      <td></td>\n",
       "    </tr>\n",
       "    <tr>\n",
       "      <th>1</th>\n",
       "      <td>15.55</td>\n",
       "      <td></td>\n",
       "    </tr>\n",
       "    <tr>\n",
       "      <th>2</th>\n",
       "      <td>15.55</td>\n",
       "      <td></td>\n",
       "    </tr>\n",
       "    <tr>\n",
       "      <th>3</th>\n",
       "      <td>15.55</td>\n",
       "      <td></td>\n",
       "    </tr>\n",
       "    <tr>\n",
       "      <th>4</th>\n",
       "      <td>20.84</td>\n",
       "      <td></td>\n",
       "    </tr>\n",
       "  </tbody>\n",
       "</table>\n",
       "</div>"
      ],
      "text/plain": [
       "      Y1 Efficiency_Y1\n",
       "0  15.55              \n",
       "1  15.55              \n",
       "2  15.55              \n",
       "3  15.55              \n",
       "4  20.84              "
      ]
     },
     "execution_count": 225,
     "metadata": {},
     "output_type": "execute_result"
    }
   ],
   "source": [
    "Heating_Y = data.iloc[:,8:9]\n",
    "Heating_Y['Efficiency_Y1'] = \"\"\n",
    "Heating_Y.head()"
   ]
  },
  {
   "cell_type": "code",
   "execution_count": 226,
   "metadata": {},
   "outputs": [
    {
     "name": "stdout",
     "output_type": "stream",
     "text": [
      "Min = 6.01 | Max = 43.1 | MEAN = 22.3071953125\n"
     ]
    }
   ],
   "source": [
    "print(\"Min =\", Heating_Y.Y1.min(),\"| Max =\", Heating_Y.Y1.max(),\"| MEAN =\", Heating_Y.Y1.mean())"
   ]
  },
  {
   "cell_type": "code",
   "execution_count": 227,
   "metadata": {},
   "outputs": [
    {
     "data": {
      "image/png": "[encoded data removed]",
      "text/plain": [
       "<matplotlib.figure.Figure at 0x7ff8a65b02b0>"
      ]
     },
     "metadata": {},
     "output_type": "display_data"
    }
   ],
   "source": [
    "plt.title(\"Frequency of Heating Load Values\", fontsize=15)\n",
    "plt.xlabel(\"Heating Load Values\", fontsize=15)\n",
    "plt.ylabel(\"Frequency\", fontsize=15)\n",
    "plt.hist(Heating_Y.Y1, bins=25)\n",
    "plt.show()"
   ]
  },
  {
   "cell_type": "markdown",
   "metadata": {},
   "source": [
    "- (10,20)  has the most number of values in the data set which tends to be an efficient range. So classifying:\n",
    "\n",
    "            Range     Efficiency\n",
    "           (0,13)         0\n",
    "           (13,18)        1\n",
    "           (18,30)        2\n",
    "           (30,40)        3"
   ]
  },
  {
   "cell_type": "code",
   "execution_count": 228,
   "metadata": {
    "collapsed": true
   },
   "outputs": [
    {
     "name": "stderr",
     "output_type": "stream",
     "text": [
      "/home/user/StackRoute/NeuralNetworks/lib/python3.6/site-packages/ipykernel_launcher.py:6: SettingWithCopyWarning: \n",
      "A value is trying to be set on a copy of a slice from a DataFrame\n",
      "\n",
      "See the caveats in the documentation: http://pandas.pydata.org/pandas-docs/stable/indexing.html#indexing-view-versus-copy\n",
      "  \n",
      "/home/user/StackRoute/NeuralNetworks/lib/python3.6/site-packages/ipykernel_launcher.py:8: SettingWithCopyWarning: \n",
      "A value is trying to be set on a copy of a slice from a DataFrame\n",
      "\n",
      "See the caveats in the documentation: http://pandas.pydata.org/pandas-docs/stable/indexing.html#indexing-view-versus-copy\n",
      "  \n",
      "/home/user/StackRoute/NeuralNetworks/lib/python3.6/site-packages/ipykernel_launcher.py:4: SettingWithCopyWarning: \n",
      "A value is trying to be set on a copy of a slice from a DataFrame\n",
      "\n",
      "See the caveats in the documentation: http://pandas.pydata.org/pandas-docs/stable/indexing.html#indexing-view-versus-copy\n",
      "  after removing the cwd from sys.path.\n",
      "/home/user/StackRoute/NeuralNetworks/lib/python3.6/site-packages/ipykernel_launcher.py:10: SettingWithCopyWarning: \n",
      "A value is trying to be set on a copy of a slice from a DataFrame\n",
      "\n",
      "See the caveats in the documentation: http://pandas.pydata.org/pandas-docs/stable/indexing.html#indexing-view-versus-copy\n",
      "  # Remove the CWD from sys.path while we load stuff.\n"
     ]
    }
   ],
   "source": [
    "for i in range(len(Heating_Y)):\n",
    "\n",
    "    if Heating_Y.Y1[i] <=13 :\n",
    "        Heating_Y.Efficiency_Y1[i] = int(0)\n",
    "    elif Heating_Y.Y1[i] <=18 :\n",
    "        Heating_Y.Efficiency_Y1[i] = int(1)\n",
    "    elif Heating_Y.Y1[i] <=30 :\n",
    "        Heating_Y.Efficiency_Y1[i] = int(2)\n",
    "    else:\n",
    "        Heating_Y.Efficiency_Y1[i] = int(3)"
   ]
  },
  {
   "cell_type": "code",
   "execution_count": 229,
   "metadata": {
    "scrolled": false
   },
   "outputs": [
    {
     "data": {
      "text/plain": [
       "<matplotlib.axes._subplots.AxesSubplot at 0x7ff8d178f390>"
      ]
     },
     "execution_count": 229,
     "metadata": {},
     "output_type": "execute_result"
    },
    {
     "data": {
      "image/png": "[encoded data removed]",
      "text/plain": [
       "<matplotlib.figure.Figure at 0x7ff8ace70518>"
      ]
     },
     "metadata": {},
     "output_type": "display_data"
    }
   ],
   "source": [
    "Heating_Y.Efficiency_Y1.hist()"
   ]
  },
  {
   "cell_type": "markdown",
   "metadata": {},
   "source": [
    "#### Response 2: Cooling Load(Y2)"
   ]
  },
  {
   "cell_type": "code",
   "execution_count": 230,
   "metadata": {},
   "outputs": [
    {
     "data": {
      "text/html": [
       "<div>\n",
       "<table border=\"1\" class=\"dataframe\">\n",
       "  <thead>\n",
       "    <tr style=\"text-align: right;\">\n",
       "      <th></th>\n",
       "      <th>Y2</th>\n",
       "      <th>Efficiency_Y2</th>\n",
       "    </tr>\n",
       "  </thead>\n",
       "  <tbody>\n",
       "    <tr>\n",
       "      <th>0</th>\n",
       "      <td>21.33</td>\n",
       "      <td></td>\n",
       "    </tr>\n",
       "    <tr>\n",
       "      <th>1</th>\n",
       "      <td>21.33</td>\n",
       "      <td></td>\n",
       "    </tr>\n",
       "    <tr>\n",
       "      <th>2</th>\n",
       "      <td>21.33</td>\n",
       "      <td></td>\n",
       "    </tr>\n",
       "    <tr>\n",
       "      <th>3</th>\n",
       "      <td>21.33</td>\n",
       "      <td></td>\n",
       "    </tr>\n",
       "    <tr>\n",
       "      <th>4</th>\n",
       "      <td>28.28</td>\n",
       "      <td></td>\n",
       "    </tr>\n",
       "  </tbody>\n",
       "</table>\n",
       "</div>"
      ],
      "text/plain": [
       "      Y2 Efficiency_Y2\n",
       "0  21.33              \n",
       "1  21.33              \n",
       "2  21.33              \n",
       "3  21.33              \n",
       "4  28.28              "
      ]
     },
     "execution_count": 230,
     "metadata": {},
     "output_type": "execute_result"
    }
   ],
   "source": [
    "Cooling_Y = data.iloc[:,9:10]\n",
    "Cooling_Y['Efficiency_Y2'] = \"\"\n",
    "Cooling_Y.head()"
   ]
  },
  {
   "cell_type": "code",
   "execution_count": 231,
   "metadata": {
    "scrolled": true
   },
   "outputs": [
    {
     "name": "stdout",
     "output_type": "stream",
     "text": [
      "Min = 10.9 | Max = 48.03 | MEAN = 24.5877604167\n"
     ]
    }
   ],
   "source": [
    "print(\"Min =\", Cooling_Y.Y2.min(),\"| Max =\", Cooling_Y.Y2.max(),\"| MEAN =\", Cooling_Y.Y2.mean())"
   ]
  },
  {
   "cell_type": "code",
   "execution_count": 232,
   "metadata": {},
   "outputs": [
    {
     "data": {
      "image/png": "[encoded data removed]",
      "text/plain": [
       "<matplotlib.figure.Figure at 0x7ff8a791c1d0>"
      ]
     },
     "metadata": {},
     "output_type": "display_data"
    }
   ],
   "source": [
    "plt.title(\"Frequency of Cooling Load Values\", fontsize=15)\n",
    "plt.xlabel(\"Cooling Load Values\", fontsize=15)\n",
    "plt.ylabel(\"Frequency\", fontsize=15)\n",
    "plt.hist(Cooling_Y.Y2, bins=25)\n",
    "plt.show()"
   ]
  },
  {
   "cell_type": "markdown",
   "metadata": {},
   "source": [
    "- (10,20)  has the most number of values in the data set which tends to be an efficient range. So classifying:\n",
    "\n",
    "            Range     Efficiency\n",
    "           (0,17)         0\n",
    "           (17,30)        1\n",
    "           (30,49)        2"
   ]
  },
  {
   "cell_type": "code",
   "execution_count": 233,
   "metadata": {
    "collapsed": true
   },
   "outputs": [
    {
     "name": "stderr",
     "output_type": "stream",
     "text": [
      "/home/user/StackRoute/NeuralNetworks/lib/python3.6/site-packages/ipykernel_launcher.py:6: SettingWithCopyWarning: \n",
      "A value is trying to be set on a copy of a slice from a DataFrame\n",
      "\n",
      "See the caveats in the documentation: http://pandas.pydata.org/pandas-docs/stable/indexing.html#indexing-view-versus-copy\n",
      "  \n",
      "/home/user/StackRoute/NeuralNetworks/lib/python3.6/site-packages/ipykernel_launcher.py:8: SettingWithCopyWarning: \n",
      "A value is trying to be set on a copy of a slice from a DataFrame\n",
      "\n",
      "See the caveats in the documentation: http://pandas.pydata.org/pandas-docs/stable/indexing.html#indexing-view-versus-copy\n",
      "  \n",
      "/home/user/StackRoute/NeuralNetworks/lib/python3.6/site-packages/ipykernel_launcher.py:4: SettingWithCopyWarning: \n",
      "A value is trying to be set on a copy of a slice from a DataFrame\n",
      "\n",
      "See the caveats in the documentation: http://pandas.pydata.org/pandas-docs/stable/indexing.html#indexing-view-versus-copy\n",
      "  after removing the cwd from sys.path.\n"
     ]
    }
   ],
   "source": [
    "for i in range(len(Cooling_Y)):\n",
    "\n",
    "    if Cooling_Y.Y2[i] <=17 :\n",
    "        Cooling_Y.Efficiency_Y2[i] = int(0)\n",
    "    elif Cooling_Y.Y2[i] <=30 :\n",
    "        Cooling_Y.Efficiency_Y2[i] = int(1)\n",
    "    else:\n",
    "        Cooling_Y.Efficiency_Y2[i] = int(2)"
   ]
  },
  {
   "cell_type": "code",
   "execution_count": 234,
   "metadata": {},
   "outputs": [
    {
     "data": {
      "text/plain": [
       "<matplotlib.axes._subplots.AxesSubplot at 0x7ff8abe26518>"
      ]
     },
     "execution_count": 234,
     "metadata": {},
     "output_type": "execute_result"
    },
    {
     "data": {
      "image/png": "[encoded data removed]",
      "text/plain": [
       "<matplotlib.figure.Figure at 0x7ff8a79780f0>"
      ]
     },
     "metadata": {},
     "output_type": "display_data"
    }
   ],
   "source": [
    "Cooling_Y.Efficiency_Y2.hist()"
   ]
  },
  {
   "cell_type": "markdown",
   "metadata": {},
   "source": [
    "## Merged Data Set"
   ]
  },
  {
   "cell_type": "code",
   "execution_count": 235,
   "metadata": {},
   "outputs": [
    {
     "data": {
      "text/html": [
       "<div>\n",
       "<table border=\"1\" class=\"dataframe\">\n",
       "  <thead>\n",
       "    <tr style=\"text-align: right;\">\n",
       "      <th></th>\n",
       "      <th>X1</th>\n",
       "      <th>X2</th>\n",
       "      <th>X3</th>\n",
       "      <th>X4</th>\n",
       "      <th>X5</th>\n",
       "      <th>X6</th>\n",
       "      <th>X7</th>\n",
       "      <th>X8</th>\n",
       "      <th>Y1</th>\n",
       "      <th>Y2</th>\n",
       "      <th>Efficiency_Y1</th>\n",
       "      <th>Efficiency_Y2</th>\n",
       "    </tr>\n",
       "  </thead>\n",
       "  <tbody>\n",
       "    <tr>\n",
       "      <th>0</th>\n",
       "      <td>0.98</td>\n",
       "      <td>514.5</td>\n",
       "      <td>294.0</td>\n",
       "      <td>110.25</td>\n",
       "      <td>7.0</td>\n",
       "      <td>2</td>\n",
       "      <td>0.0</td>\n",
       "      <td>0</td>\n",
       "      <td>15.55</td>\n",
       "      <td>21.33</td>\n",
       "      <td>1</td>\n",
       "      <td>1</td>\n",
       "    </tr>\n",
       "    <tr>\n",
       "      <th>1</th>\n",
       "      <td>0.98</td>\n",
       "      <td>514.5</td>\n",
       "      <td>294.0</td>\n",
       "      <td>110.25</td>\n",
       "      <td>7.0</td>\n",
       "      <td>3</td>\n",
       "      <td>0.0</td>\n",
       "      <td>0</td>\n",
       "      <td>15.55</td>\n",
       "      <td>21.33</td>\n",
       "      <td>1</td>\n",
       "      <td>1</td>\n",
       "    </tr>\n",
       "    <tr>\n",
       "      <th>2</th>\n",
       "      <td>0.98</td>\n",
       "      <td>514.5</td>\n",
       "      <td>294.0</td>\n",
       "      <td>110.25</td>\n",
       "      <td>7.0</td>\n",
       "      <td>4</td>\n",
       "      <td>0.0</td>\n",
       "      <td>0</td>\n",
       "      <td>15.55</td>\n",
       "      <td>21.33</td>\n",
       "      <td>1</td>\n",
       "      <td>1</td>\n",
       "    </tr>\n",
       "    <tr>\n",
       "      <th>3</th>\n",
       "      <td>0.98</td>\n",
       "      <td>514.5</td>\n",
       "      <td>294.0</td>\n",
       "      <td>110.25</td>\n",
       "      <td>7.0</td>\n",
       "      <td>5</td>\n",
       "      <td>0.0</td>\n",
       "      <td>0</td>\n",
       "      <td>15.55</td>\n",
       "      <td>21.33</td>\n",
       "      <td>1</td>\n",
       "      <td>1</td>\n",
       "    </tr>\n",
       "    <tr>\n",
       "      <th>4</th>\n",
       "      <td>0.90</td>\n",
       "      <td>563.5</td>\n",
       "      <td>318.5</td>\n",
       "      <td>122.50</td>\n",
       "      <td>7.0</td>\n",
       "      <td>2</td>\n",
       "      <td>0.0</td>\n",
       "      <td>0</td>\n",
       "      <td>20.84</td>\n",
       "      <td>28.28</td>\n",
       "      <td>2</td>\n",
       "      <td>1</td>\n",
       "    </tr>\n",
       "  </tbody>\n",
       "</table>\n",
       "</div>"
      ],
      "text/plain": [
       "     X1     X2     X3      X4   X5  X6   X7  X8     Y1     Y2 Efficiency_Y1  \\\n",
       "0  0.98  514.5  294.0  110.25  7.0   2  0.0   0  15.55  21.33             1   \n",
       "1  0.98  514.5  294.0  110.25  7.0   3  0.0   0  15.55  21.33             1   \n",
       "2  0.98  514.5  294.0  110.25  7.0   4  0.0   0  15.55  21.33             1   \n",
       "3  0.98  514.5  294.0  110.25  7.0   5  0.0   0  15.55  21.33             1   \n",
       "4  0.90  563.5  318.5  122.50  7.0   2  0.0   0  20.84  28.28             2   \n",
       "\n",
       "  Efficiency_Y2  \n",
       "0             1  \n",
       "1             1  \n",
       "2             1  \n",
       "3             1  \n",
       "4             1  "
      ]
     },
     "execution_count": 235,
     "metadata": {},
     "output_type": "execute_result"
    }
   ],
   "source": [
    "temp = data.join(Heating_Y.Efficiency_Y1)\n",
    "temp.join(Cooling_Y.Efficiency_Y2).head()"
   ]
  },
  {
   "cell_type": "code",
   "execution_count": 322,
   "metadata": {
    "collapsed": true
   },
   "outputs": [],
   "source": [
    "# Normalizing Inputs\n",
    "X = X - X.mean()"
   ]
  },
  {
   "cell_type": "markdown",
   "metadata": {},
   "source": [
    "## Testing and Training units"
   ]
  },
  {
   "cell_type": "code",
   "execution_count": 323,
   "metadata": {
    "collapsed": true
   },
   "outputs": [],
   "source": [
    "# Training Heating Loads Y1\n",
    "X_train,X_test, Y1_train,Y1_test = train_test_split(X, Heating_Y.Efficiency_Y1, random_state=4, train_size=.80, test_size=.20)"
   ]
  },
  {
   "cell_type": "code",
   "execution_count": 324,
   "metadata": {
    "collapsed": true
   },
   "outputs": [],
   "source": [
    "# Training Cooling Loads Y2\n",
    "Y2_train, Y2_test = train_test_split(Cooling_Y.Efficiency_Y2, random_state=4, train_size=.80, test_size=.20)"
   ]
  },
  {
   "cell_type": "code",
   "execution_count": 325,
   "metadata": {
    "collapsed": true
   },
   "outputs": [],
   "source": [
    "# Converting into Array\n",
    "x_train = np.array(X_train)\n",
    "x_test = np.array(X_test)"
   ]
  },
  {
   "cell_type": "markdown",
   "metadata": {},
   "source": [
    ".\n",
    "\n",
    "\n",
    "\n",
    "\n",
    "\n",
    "."
   ]
  },
  {
   "cell_type": "markdown",
   "metadata": {},
   "source": [
    "## Heating Load Models"
   ]
  },
  {
   "cell_type": "code",
   "execution_count": 326,
   "metadata": {
    "collapsed": true
   },
   "outputs": [],
   "source": [
    "batch_size = 128\n",
    "num_classes = 4  #(OUTPUTS = 0,1,2,3)\n",
    "epochs = 10"
   ]
  },
  {
   "cell_type": "code",
   "execution_count": 327,
   "metadata": {
    "collapsed": true
   },
   "outputs": [],
   "source": [
    "# One-Hot-Key Encoding\n",
    "y1_train = keras.utils.to_categorical(np.array(Y1_train), num_classes)\n",
    "y1_test = keras.utils.to_categorical(np.array(Y1_test), num_classes)"
   ]
  },
  {
   "cell_type": "code",
   "execution_count": 328,
   "metadata": {
    "collapsed": true
   },
   "outputs": [],
   "source": [
    "Heating_train_accuracy = []\n",
    "Heating_test_accuracy = []"
   ]
  },
  {
   "cell_type": "markdown",
   "metadata": {},
   "source": [
    "#### MODEL 1.1 With 2 Hidden Layers"
   ]
  },
  {
   "cell_type": "code",
   "execution_count": 329,
   "metadata": {
    "collapsed": true
   },
   "outputs": [],
   "source": [
    "model1_1 = Sequential()"
   ]
  },
  {
   "cell_type": "code",
   "execution_count": 330,
   "metadata": {
    "collapsed": true
   },
   "outputs": [],
   "source": [
    "# Dense = No. of biases;  Param = No of connections + No. of bias\n",
    "\n",
    "## Layer 0: Input Layer, which is X\n",
    "\n",
    "## Layer 1: Hidden Layer;  No. of Bias = 512;\n",
    "model1_1.add(Dense(512, activation='sigmoid', input_shape=(8,)))\n",
    "\n",
    "## Layer 2: Hidden Layer;  No. of Bias = 128;\n",
    "model1_1.add(Dense(128, activation='sigmoid'))\n",
    "\n",
    "## Layer 3: Output Layer; No. of Bias = 4(0,1,2,3)\n",
    "model1_1.add(Dense(num_classes, activation='softmax'))  "
   ]
  },
  {
   "cell_type": "code",
   "execution_count": 331,
   "metadata": {},
   "outputs": [
    {
     "name": "stdout",
     "output_type": "stream",
     "text": [
      "_________________________________________________________________\n",
      "Layer (type)                 Output Shape              Param #   \n",
      "=================================================================\n",
      "dense_113 (Dense)            (None, 512)               4608      \n",
      "_________________________________________________________________\n",
      "dense_114 (Dense)            (None, 128)               65664     \n",
      "_________________________________________________________________\n",
      "dense_115 (Dense)            (None, 4)                 516       \n",
      "=================================================================\n",
      "Total params: 70,788\n",
      "Trainable params: 70,788\n",
      "Non-trainable params: 0\n",
      "_________________________________________________________________\n"
     ]
    }
   ],
   "source": [
    "model1_1.summary()"
   ]
  },
  {
   "cell_type": "code",
   "execution_count": 332,
   "metadata": {
    "collapsed": true
   },
   "outputs": [],
   "source": [
    "model1_1.compile(optimizer = RMSprop(),\n",
    "                 loss = 'categorical_crossentropy',\n",
    "                 metrics = ['accuracy'])"
   ]
  },
  {
   "cell_type": "code",
   "execution_count": 333,
   "metadata": {},
   "outputs": [
    {
     "name": "stdout",
     "output_type": "stream",
     "text": [
      "Train on 491 samples, validate on 123 samples\n",
      "Epoch 1/10\n",
      "0s - loss: 1.1489 - acc: 0.5193 - val_loss: 0.8547 - val_acc: 0.7073\n",
      "Epoch 2/10\n",
      "0s - loss: 0.8670 - acc: 0.6802 - val_loss: 0.7785 - val_acc: 0.6992\n",
      "Epoch 3/10\n",
      "0s - loss: 0.8092 - acc: 0.6843 - val_loss: 0.7468 - val_acc: 0.6179\n",
      "Epoch 4/10\n",
      "0s - loss: 0.7861 - acc: 0.6782 - val_loss: 0.7146 - val_acc: 0.7154\n",
      "Epoch 5/10\n",
      "0s - loss: 0.7640 - acc: 0.7128 - val_loss: 0.7007 - val_acc: 0.6992\n",
      "Epoch 6/10\n",
      "0s - loss: 0.7510 - acc: 0.6864 - val_loss: 0.6886 - val_acc: 0.6829\n",
      "Epoch 7/10\n",
      "0s - loss: 0.7336 - acc: 0.6925 - val_loss: 0.6808 - val_acc: 0.7073\n",
      "Epoch 8/10\n",
      "0s - loss: 0.7470 - acc: 0.6701 - val_loss: 0.6626 - val_acc: 0.7154\n",
      "Epoch 9/10\n",
      "0s - loss: 0.7208 - acc: 0.7088 - val_loss: 0.6743 - val_acc: 0.7073\n",
      "Epoch 10/10\n",
      "0s - loss: 0.7139 - acc: 0.7026 - val_loss: 0.6652 - val_acc: 0.6829\n"
     ]
    }
   ],
   "source": [
    "model_fit1_1 = model1_1.fit(x_train, \n",
    "                            y1_train, \n",
    "                            batch_size = batch_size, \n",
    "                            epochs = epochs,\n",
    "                            validation_split = .2,\n",
    "                            verbose=2)"
   ]
  },
  {
   "cell_type": "code",
   "execution_count": 334,
   "metadata": {},
   "outputs": [
    {
     "name": "stdout",
     "output_type": "stream",
     "text": [
      "\r",
      " 32/154 [=====>........................] - ETA: 1s"
     ]
    }
   ],
   "source": [
    "y_hat1_1 = model1_1.predict_classes(x_test)"
   ]
  },
  {
   "cell_type": "code",
   "execution_count": 335,
   "metadata": {},
   "outputs": [
    {
     "data": {
      "text/plain": [
       "array([3, 2, 1, 1, 1, 0, 3, 3, 3, 0, 3, 3, 3, 0, 3, 0, 1, 1, 0, 0, 3, 3, 0,\n",
       "       2, 1, 1, 3, 3, 3, 3, 0, 3, 3, 1, 2, 3, 0, 0, 3, 3, 3, 3, 2, 1, 0, 0,\n",
       "       1, 1, 0, 3, 1, 3, 1, 0, 1, 3, 2, 2, 1, 3, 2, 1, 3, 3, 1, 1, 0, 2, 0,\n",
       "       0, 1, 3, 0, 1, 0, 3, 1, 0, 3, 2, 3, 3, 3, 2, 0, 2, 0, 0, 2, 0, 2, 0,\n",
       "       0, 2, 3, 1, 1, 3, 0, 1, 1, 1, 0, 2, 0, 3, 0, 0, 1, 0, 3, 3, 0, 0, 2,\n",
       "       2, 0, 0, 1, 3, 0, 3, 3, 3, 3, 1, 3, 3, 2, 1, 3, 1, 3, 2, 1, 0, 1, 3,\n",
       "       0, 1, 1, 3, 0, 0, 0, 1, 0, 3, 3, 1, 2, 1, 0, 0])"
      ]
     },
     "execution_count": 335,
     "metadata": {},
     "output_type": "execute_result"
    }
   ],
   "source": [
    "y_hat1_1"
   ]
  },
  {
   "cell_type": "code",
   "execution_count": 336,
   "metadata": {},
   "outputs": [
    {
     "data": {
      "text/html": [
       "<div>\n",
       "<table border=\"1\" class=\"dataframe\">\n",
       "  <thead>\n",
       "    <tr style=\"text-align: right;\">\n",
       "      <th>Efficiency_Y1</th>\n",
       "      <th>0</th>\n",
       "      <th>1</th>\n",
       "      <th>2</th>\n",
       "      <th>3</th>\n",
       "    </tr>\n",
       "    <tr>\n",
       "      <th>row_0</th>\n",
       "      <th></th>\n",
       "      <th></th>\n",
       "      <th></th>\n",
       "      <th></th>\n",
       "    </tr>\n",
       "  </thead>\n",
       "  <tbody>\n",
       "    <tr>\n",
       "      <th>0</th>\n",
       "      <td>29</td>\n",
       "      <td>16</td>\n",
       "      <td>0</td>\n",
       "      <td>0</td>\n",
       "    </tr>\n",
       "    <tr>\n",
       "      <th>1</th>\n",
       "      <td>11</td>\n",
       "      <td>23</td>\n",
       "      <td>4</td>\n",
       "      <td>0</td>\n",
       "    </tr>\n",
       "    <tr>\n",
       "      <th>2</th>\n",
       "      <td>0</td>\n",
       "      <td>0</td>\n",
       "      <td>14</td>\n",
       "      <td>6</td>\n",
       "    </tr>\n",
       "    <tr>\n",
       "      <th>3</th>\n",
       "      <td>0</td>\n",
       "      <td>0</td>\n",
       "      <td>18</td>\n",
       "      <td>33</td>\n",
       "    </tr>\n",
       "  </tbody>\n",
       "</table>\n",
       "</div>"
      ],
      "text/plain": [
       "Efficiency_Y1   0   1   2   3\n",
       "row_0                        \n",
       "0              29  16   0   0\n",
       "1              11  23   4   0\n",
       "2               0   0  14   6\n",
       "3               0   0  18  33"
      ]
     },
     "execution_count": 336,
     "metadata": {},
     "output_type": "execute_result"
    }
   ],
   "source": [
    "pd.crosstab(y_hat1_1,Y1_test)"
   ]
  },
  {
   "cell_type": "code",
   "execution_count": 337,
   "metadata": {
    "scrolled": false
   },
   "outputs": [
    {
     "data": {
      "text/plain": [
       "<matplotlib.legend.Legend at 0x7ff8a4fec860>"
      ]
     },
     "execution_count": 337,
     "metadata": {},
     "output_type": "execute_result"
    },
    {
     "data": {
      "image/png": "[encoded data removed]",
      "text/plain": [
       "<matplotlib.figure.Figure at 0x7ff8a500f0b8>"
      ]
     },
     "metadata": {},
     "output_type": "display_data"
    }
   ],
   "source": [
    "plt.plot(model_fit1_1.epoch,model_fit1_1.history['acc'],'r', label = 'acc')\n",
    "plt.plot(model_fit1_1.epoch,model_fit1_1.history['val_acc'],'b', label = 'val_acc')\n",
    "plt.xlabel('No. of epochs')\n",
    "plt.ylabel('Val_acc/Acc')\n",
    "plt.legend()"
   ]
  },
  {
   "cell_type": "code",
   "execution_count": 338,
   "metadata": {},
   "outputs": [
    {
     "data": {
      "text/plain": [
       "0.70264765602022472"
      ]
     },
     "execution_count": 338,
     "metadata": {},
     "output_type": "execute_result"
    }
   ],
   "source": [
    "train_acc = model_fit1_1.history['acc'][epochs-1]\n",
    "train_acc"
   ]
  },
  {
   "cell_type": "code",
   "execution_count": 339,
   "metadata": {},
   "outputs": [
    {
     "name": "stdout",
     "output_type": "stream",
     "text": [
      "\r",
      " 32/154 [=====>........................] - ETA: 0s"
     ]
    },
    {
     "data": {
      "text/plain": [
       "0.64285714672757432"
      ]
     },
     "execution_count": 339,
     "metadata": {},
     "output_type": "execute_result"
    }
   ],
   "source": [
    "test_acc = model1_1.evaluate(x_test, y1_test)[1]\n",
    "test_acc"
   ]
  },
  {
   "cell_type": "code",
   "execution_count": 340,
   "metadata": {
    "collapsed": true
   },
   "outputs": [],
   "source": [
    "Heating_train_accuracy.append(train_acc)\n",
    "Heating_test_accuracy.append(test_acc)"
   ]
  },
  {
   "cell_type": "markdown",
   "metadata": {},
   "source": [
    "#### MODEL 1.2 With 3 Hidden Layers"
   ]
  },
  {
   "cell_type": "code",
   "execution_count": 341,
   "metadata": {
    "collapsed": true
   },
   "outputs": [],
   "source": [
    "model1_2 = Sequential()"
   ]
  },
  {
   "cell_type": "code",
   "execution_count": 342,
   "metadata": {
    "collapsed": true
   },
   "outputs": [],
   "source": [
    "# Dense = No. of biases;  Param = No of connections + No. of bias\n",
    "\n",
    "## Layer 0: Input Layer, which is X\n",
    "\n",
    "## Layer 1: Hidden Layer;  No. of Bias = 512;\n",
    "model1_2.add(Dense(512, activation='sigmoid', input_shape=(8,)))\n",
    "\n",
    "## Layer 2: Hidden Layer;  No. of Bias = 256;\n",
    "model1_2.add(Dense(256, activation='sigmoid'))\n",
    "\n",
    "## Layer 3: Hidden Layer;  No. of Bias = 128;\n",
    "model1_2.add(Dense(128, activation='sigmoid'))\n",
    "\n",
    "## Layer 4: Output Layer; No. of Bias = 4(0,1,2,3)\n",
    "model1_2.add(Dense(num_classes, activation='sigmoid'))  "
   ]
  },
  {
   "cell_type": "code",
   "execution_count": 343,
   "metadata": {},
   "outputs": [
    {
     "name": "stdout",
     "output_type": "stream",
     "text": [
      "_________________________________________________________________\n",
      "Layer (type)                 Output Shape              Param #   \n",
      "=================================================================\n",
      "dense_116 (Dense)            (None, 512)               4608      \n",
      "_________________________________________________________________\n",
      "dense_117 (Dense)            (None, 256)               131328    \n",
      "_________________________________________________________________\n",
      "dense_118 (Dense)            (None, 128)               32896     \n",
      "_________________________________________________________________\n",
      "dense_119 (Dense)            (None, 4)                 516       \n",
      "=================================================================\n",
      "Total params: 169,348\n",
      "Trainable params: 169,348\n",
      "Non-trainable params: 0\n",
      "_________________________________________________________________\n"
     ]
    }
   ],
   "source": [
    "model1_2.summary()"
   ]
  },
  {
   "cell_type": "code",
   "execution_count": 344,
   "metadata": {
    "collapsed": true
   },
   "outputs": [],
   "source": [
    "model1_2.compile(optimizer = RMSprop(),\n",
    "                 loss = 'categorical_crossentropy',\n",
    "                 metrics = ['accuracy'])"
   ]
  },
  {
   "cell_type": "code",
   "execution_count": 345,
   "metadata": {},
   "outputs": [
    {
     "name": "stdout",
     "output_type": "stream",
     "text": [
      "Train on 491 samples, validate on 123 samples\n",
      "Epoch 1/10\n",
      "0s - loss: 1.2390 - acc: 0.3360 - val_loss: 0.9251 - val_acc: 0.6098\n",
      "Epoch 2/10\n",
      "0s - loss: 0.9024 - acc: 0.5703 - val_loss: 0.8035 - val_acc: 0.6341\n",
      "Epoch 3/10\n",
      "0s - loss: 0.8382 - acc: 0.6151 - val_loss: 0.7771 - val_acc: 0.6829\n",
      "Epoch 4/10\n",
      "0s - loss: 0.8058 - acc: 0.6517 - val_loss: 0.7399 - val_acc: 0.7073\n",
      "Epoch 5/10\n",
      "0s - loss: 0.7885 - acc: 0.6558 - val_loss: 0.7179 - val_acc: 0.6911\n",
      "Epoch 6/10\n",
      "0s - loss: 0.7685 - acc: 0.6619 - val_loss: 0.7120 - val_acc: 0.6992\n",
      "Epoch 7/10\n",
      "0s - loss: 0.7515 - acc: 0.6680 - val_loss: 0.6857 - val_acc: 0.7073\n",
      "Epoch 8/10\n",
      "0s - loss: 0.7358 - acc: 0.6904 - val_loss: 0.6761 - val_acc: 0.6829\n",
      "Epoch 9/10\n",
      "0s - loss: 0.7286 - acc: 0.6843 - val_loss: 0.6633 - val_acc: 0.7073\n",
      "Epoch 10/10\n",
      "0s - loss: 0.7384 - acc: 0.7006 - val_loss: 0.6560 - val_acc: 0.7154\n"
     ]
    }
   ],
   "source": [
    "model_fit1_2 = model1_2.fit(x_train, \n",
    "                            y1_train, \n",
    "                            batch_size = batch_size, \n",
    "                            epochs = epochs,\n",
    "                            validation_split = .2,\n",
    "                            verbose=2)"
   ]
  },
  {
   "cell_type": "code",
   "execution_count": 346,
   "metadata": {},
   "outputs": [
    {
     "name": "stdout",
     "output_type": "stream",
     "text": [
      "\r",
      " 32/154 [=====>........................] - ETA: 0s"
     ]
    }
   ],
   "source": [
    "y_hat1_2 = model1_2.predict_classes(x_test)"
   ]
  },
  {
   "cell_type": "code",
   "execution_count": 347,
   "metadata": {},
   "outputs": [
    {
     "data": {
      "text/plain": [
       "array([2, 2, 1, 0, 1, 0, 2, 2, 3, 0, 3, 3, 3, 0, 3, 0, 1, 0, 0, 0, 2, 2, 0,\n",
       "       2, 0, 1, 3, 3, 3, 3, 0, 2, 2, 1, 2, 3, 0, 0, 2, 2, 3, 3, 2, 1, 0, 0,\n",
       "       0, 0, 0, 2, 1, 2, 1, 0, 1, 2, 2, 2, 1, 3, 2, 1, 2, 2, 1, 0, 0, 2, 0,\n",
       "       0, 1, 3, 0, 1, 0, 3, 1, 0, 3, 2, 2, 3, 2, 2, 0, 2, 0, 0, 2, 0, 2, 0,\n",
       "       0, 2, 3, 1, 1, 2, 0, 1, 1, 1, 0, 2, 0, 2, 0, 0, 1, 0, 3, 3, 0, 0, 2,\n",
       "       2, 0, 0, 1, 3, 0, 3, 2, 2, 2, 1, 2, 3, 2, 1, 2, 1, 3, 2, 1, 0, 1, 2,\n",
       "       0, 0, 0, 2, 0, 0, 0, 0, 0, 2, 3, 0, 2, 1, 0, 0])"
      ]
     },
     "execution_count": 347,
     "metadata": {},
     "output_type": "execute_result"
    }
   ],
   "source": [
    "y_hat1_2"
   ]
  },
  {
   "cell_type": "code",
   "execution_count": 348,
   "metadata": {},
   "outputs": [
    {
     "data": {
      "text/html": [
       "<div>\n",
       "<table border=\"1\" class=\"dataframe\">\n",
       "  <thead>\n",
       "    <tr style=\"text-align: right;\">\n",
       "      <th>Efficiency_Y1</th>\n",
       "      <th>0</th>\n",
       "      <th>1</th>\n",
       "      <th>2</th>\n",
       "      <th>3</th>\n",
       "    </tr>\n",
       "    <tr>\n",
       "      <th>row_0</th>\n",
       "      <th></th>\n",
       "      <th></th>\n",
       "      <th></th>\n",
       "      <th></th>\n",
       "    </tr>\n",
       "  </thead>\n",
       "  <tbody>\n",
       "    <tr>\n",
       "      <th>0</th>\n",
       "      <td>35</td>\n",
       "      <td>20</td>\n",
       "      <td>0</td>\n",
       "      <td>0</td>\n",
       "    </tr>\n",
       "    <tr>\n",
       "      <th>1</th>\n",
       "      <td>5</td>\n",
       "      <td>19</td>\n",
       "      <td>4</td>\n",
       "      <td>0</td>\n",
       "    </tr>\n",
       "    <tr>\n",
       "      <th>2</th>\n",
       "      <td>0</td>\n",
       "      <td>0</td>\n",
       "      <td>31</td>\n",
       "      <td>15</td>\n",
       "    </tr>\n",
       "    <tr>\n",
       "      <th>3</th>\n",
       "      <td>0</td>\n",
       "      <td>0</td>\n",
       "      <td>1</td>\n",
       "      <td>24</td>\n",
       "    </tr>\n",
       "  </tbody>\n",
       "</table>\n",
       "</div>"
      ],
      "text/plain": [
       "Efficiency_Y1   0   1   2   3\n",
       "row_0                        \n",
       "0              35  20   0   0\n",
       "1               5  19   4   0\n",
       "2               0   0  31  15\n",
       "3               0   0   1  24"
      ]
     },
     "execution_count": 348,
     "metadata": {},
     "output_type": "execute_result"
    }
   ],
   "source": [
    "pd.crosstab(y_hat1_2, Y1_test)"
   ]
  },
  {
   "cell_type": "code",
   "execution_count": 349,
   "metadata": {
    "scrolled": false
   },
   "outputs": [
    {
     "data": {
      "text/plain": [
       "<matplotlib.legend.Legend at 0x7ff8a4c28eb8>"
      ]
     },
     "execution_count": 349,
     "metadata": {},
     "output_type": "execute_result"
    },
    {
     "data": {
      "image/png": "[encoded data removed]",
      "text/plain": [
       "<matplotlib.figure.Figure at 0x7ff8a4c4c908>"
      ]
     },
     "metadata": {},
     "output_type": "display_data"
    }
   ],
   "source": [
    "plt.plot(model_fit1_2.epoch, model_fit1_2.history['acc'],'r', label = 'acc')\n",
    "plt.plot(model_fit1_2.epoch, model_fit1_2.history['val_acc'],'b', label = 'val_acc')\n",
    "plt.xlabel('No. of epochs')\n",
    "plt.ylabel('Val_acc/Acc')\n",
    "plt.legend()"
   ]
  },
  {
   "cell_type": "code",
   "execution_count": 350,
   "metadata": {},
   "outputs": [
    {
     "data": {
      "text/plain": [
       "0.70061099237919822"
      ]
     },
     "execution_count": 350,
     "metadata": {},
     "output_type": "execute_result"
    }
   ],
   "source": [
    "train_acc = model_fit1_2.history['acc'][epochs-1]\n",
    "train_acc"
   ]
  },
  {
   "cell_type": "code",
   "execution_count": 351,
   "metadata": {},
   "outputs": [
    {
     "name": "stdout",
     "output_type": "stream",
     "text": [
      "\r",
      " 32/154 [=====>........................] - ETA: 0s"
     ]
    },
    {
     "data": {
      "text/plain": [
       "0.70779221166263928"
      ]
     },
     "execution_count": 351,
     "metadata": {},
     "output_type": "execute_result"
    }
   ],
   "source": [
    "test_acc = model1_2.evaluate(x_test, y1_test)[1]\n",
    "test_acc"
   ]
  },
  {
   "cell_type": "code",
   "execution_count": 352,
   "metadata": {
    "collapsed": true
   },
   "outputs": [],
   "source": [
    "Heating_train_accuracy.append(train_acc)\n",
    "Heating_test_accuracy.append(test_acc)"
   ]
  },
  {
   "cell_type": "code",
   "execution_count": 353,
   "metadata": {},
   "outputs": [
    {
     "data": {
      "text/plain": [
       "[0.70264765602022472, 0.70061099237919822]"
      ]
     },
     "execution_count": 353,
     "metadata": {},
     "output_type": "execute_result"
    }
   ],
   "source": [
    "Heating_train_accuracy"
   ]
  },
  {
   "cell_type": "markdown",
   "metadata": {},
   "source": [
    "#### MODEL 1.3 With 4 Hidden Layers"
   ]
  },
  {
   "cell_type": "code",
   "execution_count": 354,
   "metadata": {
    "collapsed": true
   },
   "outputs": [],
   "source": [
    "model1_3 = Sequential()"
   ]
  },
  {
   "cell_type": "code",
   "execution_count": 355,
   "metadata": {
    "collapsed": true
   },
   "outputs": [],
   "source": [
    "# Dense = No. of biases;  Param = No of connections + No. of bias\n",
    "\n",
    "## Layer 0: Input Layer, which is X\n",
    "\n",
    "## Layer 1: Hidden Layer;  No. of Bias = 512;\n",
    "model1_3.add(Dense(512, activation='sigmoid', input_shape=(8,)))\n",
    "\n",
    "## Layer 2: Hidden Layer;  No. of Bias = 400;\n",
    "model1_3.add(Dense(400, activation='sigmoid'))\n",
    "\n",
    "## Layer 3: Hidden Layer;  No. of Bias = 256;\n",
    "model1_3.add(Dense(256, activation='sigmoid'))\n",
    "\n",
    "## Layer 4: Hidden Layer;  No. of Bias = 128;\n",
    "model1_3.add(Dense(128, activation='sigmoid'))\n",
    "\n",
    "## Layer 5: Output Layer; No. of Bias = 4(0,1,2,3)\n",
    "model1_3.add(Dense(num_classes, activation='sigmoid'))  "
   ]
  },
  {
   "cell_type": "code",
   "execution_count": 356,
   "metadata": {},
   "outputs": [
    {
     "name": "stdout",
     "output_type": "stream",
     "text": [
      "_________________________________________________________________\n",
      "Layer (type)                 Output Shape              Param #   \n",
      "=================================================================\n",
      "dense_120 (Dense)            (None, 512)               4608      \n",
      "_________________________________________________________________\n",
      "dense_121 (Dense)            (None, 400)               205200    \n",
      "_________________________________________________________________\n",
      "dense_122 (Dense)            (None, 256)               102656    \n",
      "_________________________________________________________________\n",
      "dense_123 (Dense)            (None, 128)               32896     \n",
      "_________________________________________________________________\n",
      "dense_124 (Dense)            (None, 4)                 516       \n",
      "=================================================================\n",
      "Total params: 345,876\n",
      "Trainable params: 345,876\n",
      "Non-trainable params: 0\n",
      "_________________________________________________________________\n"
     ]
    }
   ],
   "source": [
    "model1_3.summary()"
   ]
  },
  {
   "cell_type": "code",
   "execution_count": 357,
   "metadata": {
    "collapsed": true
   },
   "outputs": [],
   "source": [
    "model1_3.compile(optimizer = RMSprop(),\n",
    "                 loss = 'categorical_crossentropy',\n",
    "                 metrics = ['accuracy'])"
   ]
  },
  {
   "cell_type": "code",
   "execution_count": 358,
   "metadata": {},
   "outputs": [
    {
     "name": "stdout",
     "output_type": "stream",
     "text": [
      "Train on 491 samples, validate on 123 samples\n",
      "Epoch 1/10\n",
      "0s - loss: 1.3522 - acc: 0.3299 - val_loss: 1.1584 - val_acc: 0.5447\n",
      "Epoch 2/10\n",
      "0s - loss: 1.0528 - acc: 0.5458 - val_loss: 0.8783 - val_acc: 0.6341\n",
      "Epoch 3/10\n",
      "0s - loss: 0.8870 - acc: 0.5051 - val_loss: 0.8247 - val_acc: 0.6098\n",
      "Epoch 4/10\n",
      "0s - loss: 0.8580 - acc: 0.4745 - val_loss: 0.7966 - val_acc: 0.5447\n",
      "Epoch 5/10\n",
      "0s - loss: 0.8389 - acc: 0.5519 - val_loss: 0.7908 - val_acc: 0.5447\n",
      "Epoch 6/10\n",
      "0s - loss: 0.8107 - acc: 0.5927 - val_loss: 0.7610 - val_acc: 0.6423\n",
      "Epoch 7/10\n",
      "0s - loss: 0.7912 - acc: 0.5866 - val_loss: 0.7488 - val_acc: 0.6423\n",
      "Epoch 8/10\n",
      "0s - loss: 0.7803 - acc: 0.6029 - val_loss: 0.7539 - val_acc: 0.6423\n",
      "Epoch 9/10\n",
      "0s - loss: 0.7646 - acc: 0.6395 - val_loss: 0.7201 - val_acc: 0.7073\n",
      "Epoch 10/10\n",
      "0s - loss: 0.7624 - acc: 0.6477 - val_loss: 0.7137 - val_acc: 0.6829\n"
     ]
    }
   ],
   "source": [
    "model_fit1_3 = model1_3.fit(x_train, \n",
    "                            y1_train, \n",
    "                            batch_size = batch_size, \n",
    "                            epochs = epochs,\n",
    "                            validation_split = .2,\n",
    "                            verbose=2)"
   ]
  },
  {
   "cell_type": "code",
   "execution_count": 359,
   "metadata": {},
   "outputs": [
    {
     "name": "stdout",
     "output_type": "stream",
     "text": [
      "\r",
      " 32/154 [=====>........................] - ETA: 1s"
     ]
    }
   ],
   "source": [
    "y_hat1_3 = model1_3.predict_classes(x_test)"
   ]
  },
  {
   "cell_type": "code",
   "execution_count": 360,
   "metadata": {},
   "outputs": [
    {
     "data": {
      "text/plain": [
       "array([2, 2, 0, 0, 0, 0, 2, 2, 3, 0, 3, 3, 3, 0, 3, 0, 1, 0, 0, 0, 2, 2, 0,\n",
       "       2, 0, 1, 3, 3, 3, 3, 0, 2, 2, 1, 2, 3, 0, 0, 2, 2, 3, 3, 2, 0, 0, 0,\n",
       "       0, 0, 0, 2, 1, 2, 1, 0, 0, 2, 2, 2, 0, 3, 2, 0, 2, 2, 0, 0, 0, 2, 0,\n",
       "       0, 0, 3, 0, 1, 0, 3, 1, 0, 3, 2, 2, 3, 2, 2, 0, 2, 0, 0, 2, 0, 2, 0,\n",
       "       0, 2, 3, 0, 1, 2, 0, 0, 1, 0, 0, 2, 0, 2, 0, 0, 1, 0, 3, 3, 0, 0, 2,\n",
       "       2, 0, 0, 0, 3, 0, 3, 2, 2, 2, 1, 2, 3, 2, 0, 2, 1, 3, 2, 0, 0, 0, 2,\n",
       "       0, 0, 0, 2, 0, 0, 0, 0, 0, 2, 3, 0, 2, 0, 0, 0])"
      ]
     },
     "execution_count": 360,
     "metadata": {},
     "output_type": "execute_result"
    }
   ],
   "source": [
    "y_hat1_3"
   ]
  },
  {
   "cell_type": "code",
   "execution_count": 361,
   "metadata": {},
   "outputs": [
    {
     "data": {
      "text/html": [
       "<div>\n",
       "<table border=\"1\" class=\"dataframe\">\n",
       "  <thead>\n",
       "    <tr style=\"text-align: right;\">\n",
       "      <th>Efficiency_Y1</th>\n",
       "      <th>0</th>\n",
       "      <th>1</th>\n",
       "      <th>2</th>\n",
       "      <th>3</th>\n",
       "    </tr>\n",
       "    <tr>\n",
       "      <th>row_0</th>\n",
       "      <th></th>\n",
       "      <th></th>\n",
       "      <th></th>\n",
       "      <th></th>\n",
       "    </tr>\n",
       "  </thead>\n",
       "  <tbody>\n",
       "    <tr>\n",
       "      <th>0</th>\n",
       "      <td>36</td>\n",
       "      <td>31</td>\n",
       "      <td>4</td>\n",
       "      <td>0</td>\n",
       "    </tr>\n",
       "    <tr>\n",
       "      <th>1</th>\n",
       "      <td>4</td>\n",
       "      <td>8</td>\n",
       "      <td>0</td>\n",
       "      <td>0</td>\n",
       "    </tr>\n",
       "    <tr>\n",
       "      <th>2</th>\n",
       "      <td>0</td>\n",
       "      <td>0</td>\n",
       "      <td>31</td>\n",
       "      <td>15</td>\n",
       "    </tr>\n",
       "    <tr>\n",
       "      <th>3</th>\n",
       "      <td>0</td>\n",
       "      <td>0</td>\n",
       "      <td>1</td>\n",
       "      <td>24</td>\n",
       "    </tr>\n",
       "  </tbody>\n",
       "</table>\n",
       "</div>"
      ],
      "text/plain": [
       "Efficiency_Y1   0   1   2   3\n",
       "row_0                        \n",
       "0              36  31   4   0\n",
       "1               4   8   0   0\n",
       "2               0   0  31  15\n",
       "3               0   0   1  24"
      ]
     },
     "execution_count": 361,
     "metadata": {},
     "output_type": "execute_result"
    }
   ],
   "source": [
    "pd.crosstab(y_hat1_3, Y1_test)"
   ]
  },
  {
   "cell_type": "code",
   "execution_count": 362,
   "metadata": {
    "scrolled": false
   },
   "outputs": [
    {
     "data": {
      "text/plain": [
       "<matplotlib.legend.Legend at 0x7ff8a45d24e0>"
      ]
     },
     "execution_count": 362,
     "metadata": {},
     "output_type": "execute_result"
    },
    {
     "data": {
      "image/png": "[encoded data removed]",
      "text/plain": [
       "<matplotlib.figure.Figure at 0x7ff8a466f898>"
      ]
     },
     "metadata": {},
     "output_type": "display_data"
    }
   ],
   "source": [
    "plt.plot(model_fit1_3.epoch, model_fit1_3.history['acc'],'r', label = 'acc')\n",
    "plt.plot(model_fit1_3.epoch, model_fit1_3.history['val_acc'],'b', label = 'val_acc')\n",
    "plt.xlabel('No. of epochs')\n",
    "plt.ylabel('Val_acc/Acc')\n",
    "plt.legend()"
   ]
  },
  {
   "cell_type": "code",
   "execution_count": 363,
   "metadata": {},
   "outputs": [
    {
     "data": {
      "text/plain": [
       "0.64765784004797999"
      ]
     },
     "execution_count": 363,
     "metadata": {},
     "output_type": "execute_result"
    }
   ],
   "source": [
    "train_acc = model_fit1_3.history['acc'][epochs-1]\n",
    "train_acc"
   ]
  },
  {
   "cell_type": "code",
   "execution_count": 364,
   "metadata": {},
   "outputs": [
    {
     "name": "stdout",
     "output_type": "stream",
     "text": [
      "\r",
      " 32/154 [=====>........................] - ETA: 0s"
     ]
    },
    {
     "data": {
      "text/plain": [
       "0.6428571428571429"
      ]
     },
     "execution_count": 364,
     "metadata": {},
     "output_type": "execute_result"
    }
   ],
   "source": [
    "test_acc = model1_3.evaluate(x_test, y1_test)[1]\n",
    "test_acc"
   ]
  },
  {
   "cell_type": "code",
   "execution_count": 365,
   "metadata": {
    "collapsed": true
   },
   "outputs": [],
   "source": [
    "Heating_train_accuracy.append(train_acc)\n",
    "Heating_test_accuracy.append(test_acc)"
   ]
  },
  {
   "cell_type": "code",
   "execution_count": 366,
   "metadata": {},
   "outputs": [
    {
     "data": {
      "text/plain": [
       "[0.70264765602022472, 0.70061099237919822, 0.64765784004797999]"
      ]
     },
     "execution_count": 366,
     "metadata": {},
     "output_type": "execute_result"
    }
   ],
   "source": [
    "Heating_train_accuracy"
   ]
  },
  {
   "cell_type": "markdown",
   "metadata": {},
   "source": [
    "#### MODEL 1.4 with 5 Hidden Layers"
   ]
  },
  {
   "cell_type": "code",
   "execution_count": 367,
   "metadata": {
    "collapsed": true
   },
   "outputs": [],
   "source": [
    "model1_4 = Sequential()"
   ]
  },
  {
   "cell_type": "code",
   "execution_count": 368,
   "metadata": {
    "collapsed": true
   },
   "outputs": [],
   "source": [
    "# Dense = No. of biases;  Param = No of connections + No. of bias\n",
    "\n",
    "## Layer 0: Input Layer, which is X\n",
    "\n",
    "## Layer 1: Hidden Layer;  No. of Bias = 600;\n",
    "model1_4.add(Dense(600, activation='sigmoid', input_shape=(8,)))\n",
    "\n",
    "## Layer 2: Hidden Layer;  No. of Bias = 500;\n",
    "model1_4.add(Dense(500, activation='sigmoid'))\n",
    "\n",
    "## Layer 3: Hidden Layer;  No. of Bias = 400;\n",
    "model1_4.add(Dense(400, activation='sigmoid'))\n",
    "\n",
    "## Layer 4: Hidden Layer;  No. of Bias = 300;\n",
    "model1_4.add(Dense(300, activation='sigmoid'))\n",
    "\n",
    "## Layer 5: Hidden Layer;  No. of Bias = 128;\n",
    "model1_4.add(Dense(128, activation='sigmoid'))\n",
    "\n",
    "## Layer 6: Output Layer; No. of Bias = 4(0,1,2,3)\n",
    "model1_4.add(Dense(num_classes, activation='sigmoid'))  "
   ]
  },
  {
   "cell_type": "code",
   "execution_count": 369,
   "metadata": {},
   "outputs": [
    {
     "name": "stdout",
     "output_type": "stream",
     "text": [
      "_________________________________________________________________\n",
      "Layer (type)                 Output Shape              Param #   \n",
      "=================================================================\n",
      "dense_125 (Dense)            (None, 600)               5400      \n",
      "_________________________________________________________________\n",
      "dense_126 (Dense)            (None, 500)               300500    \n",
      "_________________________________________________________________\n",
      "dense_127 (Dense)            (None, 400)               200400    \n",
      "_________________________________________________________________\n",
      "dense_128 (Dense)            (None, 300)               120300    \n",
      "_________________________________________________________________\n",
      "dense_129 (Dense)            (None, 128)               38528     \n",
      "_________________________________________________________________\n",
      "dense_130 (Dense)            (None, 4)                 516       \n",
      "=================================================================\n",
      "Total params: 665,644\n",
      "Trainable params: 665,644\n",
      "Non-trainable params: 0\n",
      "_________________________________________________________________\n"
     ]
    }
   ],
   "source": [
    "model1_4.summary()"
   ]
  },
  {
   "cell_type": "code",
   "execution_count": 370,
   "metadata": {
    "collapsed": true
   },
   "outputs": [],
   "source": [
    "model1_4.compile(optimizer = RMSprop(),\n",
    "                 loss = 'categorical_crossentropy',\n",
    "                 metrics = ['accuracy'])"
   ]
  },
  {
   "cell_type": "code",
   "execution_count": 371,
   "metadata": {},
   "outputs": [
    {
     "name": "stdout",
     "output_type": "stream",
     "text": [
      "Train on 491 samples, validate on 123 samples\n",
      "Epoch 1/10\n",
      "0s - loss: 1.4333 - acc: 0.3483 - val_loss: 1.2879 - val_acc: 0.4472\n",
      "Epoch 2/10\n",
      "0s - loss: 1.1554 - acc: 0.4847 - val_loss: 0.9285 - val_acc: 0.5854\n",
      "Epoch 3/10\n",
      "0s - loss: 0.9114 - acc: 0.5193 - val_loss: 0.8368 - val_acc: 0.5447\n",
      "Epoch 4/10\n",
      "0s - loss: 0.8582 - acc: 0.5051 - val_loss: 0.8116 - val_acc: 0.5447\n",
      "Epoch 5/10\n",
      "0s - loss: 0.8472 - acc: 0.5132 - val_loss: 0.8030 - val_acc: 0.5447\n",
      "Epoch 6/10\n",
      "0s - loss: 0.8388 - acc: 0.5132 - val_loss: 0.8062 - val_acc: 0.4472\n",
      "Epoch 7/10\n",
      "0s - loss: 0.8416 - acc: 0.4705 - val_loss: 0.7967 - val_acc: 0.5447\n",
      "Epoch 8/10\n",
      "0s - loss: 0.8354 - acc: 0.5132 - val_loss: 0.7948 - val_acc: 0.5447\n",
      "Epoch 9/10\n",
      "0s - loss: 0.8333 - acc: 0.5112 - val_loss: 0.7851 - val_acc: 0.6423\n",
      "Epoch 10/10\n",
      "0s - loss: 0.8241 - acc: 0.5682 - val_loss: 0.8571 - val_acc: 0.5447\n"
     ]
    }
   ],
   "source": [
    "model_fit1_4 = model1_4.fit(x_train, \n",
    "                            y1_train, \n",
    "                            batch_size=batch_size, \n",
    "                            epochs=epochs,\n",
    "                            validation_split = .2,\n",
    "                            verbose=2)"
   ]
  },
  {
   "cell_type": "code",
   "execution_count": 372,
   "metadata": {},
   "outputs": [
    {
     "name": "stdout",
     "output_type": "stream",
     "text": [
      "\r",
      " 32/154 [=====>........................] - ETA: 1s"
     ]
    }
   ],
   "source": [
    "y_hat1_4 = model1_4.predict_classes(x_test)"
   ]
  },
  {
   "cell_type": "code",
   "execution_count": 373,
   "metadata": {},
   "outputs": [
    {
     "data": {
      "text/plain": [
       "array([2, 2, 1, 1, 1, 1, 2, 2, 3, 1, 3, 3, 3, 1, 3, 1, 1, 1, 1, 1, 2, 2, 1,\n",
       "       2, 1, 1, 3, 3, 3, 3, 1, 2, 2, 1, 2, 3, 1, 1, 2, 2, 3, 3, 2, 1, 1, 1,\n",
       "       1, 1, 1, 2, 1, 2, 1, 1, 1, 2, 2, 2, 1, 3, 2, 1, 2, 2, 1, 1, 1, 2, 1,\n",
       "       1, 1, 3, 1, 1, 1, 3, 1, 1, 3, 2, 2, 3, 2, 2, 1, 2, 1, 1, 2, 1, 2, 1,\n",
       "       1, 2, 3, 1, 1, 2, 1, 1, 1, 1, 1, 2, 1, 2, 1, 1, 1, 1, 3, 3, 1, 1, 2,\n",
       "       2, 1, 1, 1, 3, 1, 3, 2, 2, 2, 1, 2, 3, 2, 1, 2, 1, 3, 2, 1, 1, 1, 2,\n",
       "       1, 1, 1, 2, 1, 1, 1, 1, 1, 2, 3, 1, 2, 1, 1, 1])"
      ]
     },
     "execution_count": 373,
     "metadata": {},
     "output_type": "execute_result"
    }
   ],
   "source": [
    "y_hat1_4"
   ]
  },
  {
   "cell_type": "code",
   "execution_count": 374,
   "metadata": {},
   "outputs": [
    {
     "data": {
      "text/html": [
       "<div>\n",
       "<table border=\"1\" class=\"dataframe\">\n",
       "  <thead>\n",
       "    <tr style=\"text-align: right;\">\n",
       "      <th>Efficiency_Y1</th>\n",
       "      <th>0</th>\n",
       "      <th>1</th>\n",
       "      <th>2</th>\n",
       "      <th>3</th>\n",
       "    </tr>\n",
       "    <tr>\n",
       "      <th>row_0</th>\n",
       "      <th></th>\n",
       "      <th></th>\n",
       "      <th></th>\n",
       "      <th></th>\n",
       "    </tr>\n",
       "  </thead>\n",
       "  <tbody>\n",
       "    <tr>\n",
       "      <th>1</th>\n",
       "      <td>40</td>\n",
       "      <td>39</td>\n",
       "      <td>4</td>\n",
       "      <td>0</td>\n",
       "    </tr>\n",
       "    <tr>\n",
       "      <th>2</th>\n",
       "      <td>0</td>\n",
       "      <td>0</td>\n",
       "      <td>31</td>\n",
       "      <td>15</td>\n",
       "    </tr>\n",
       "    <tr>\n",
       "      <th>3</th>\n",
       "      <td>0</td>\n",
       "      <td>0</td>\n",
       "      <td>1</td>\n",
       "      <td>24</td>\n",
       "    </tr>\n",
       "  </tbody>\n",
       "</table>\n",
       "</div>"
      ],
      "text/plain": [
       "Efficiency_Y1   0   1   2   3\n",
       "row_0                        \n",
       "1              40  39   4   0\n",
       "2               0   0  31  15\n",
       "3               0   0   1  24"
      ]
     },
     "execution_count": 374,
     "metadata": {},
     "output_type": "execute_result"
    }
   ],
   "source": [
    "pd.crosstab(y_hat1_4, Y1_test)"
   ]
  },
  {
   "cell_type": "code",
   "execution_count": 375,
   "metadata": {
    "scrolled": false
   },
   "outputs": [
    {
     "data": {
      "text/plain": [
       "<matplotlib.legend.Legend at 0x7ff8a4159fd0>"
      ]
     },
     "execution_count": 375,
     "metadata": {},
     "output_type": "execute_result"
    },
    {
     "data": {
      "image/png": "[encoded data removed]",
      "text/plain": [
       "<matplotlib.figure.Figure at 0x7ff8a41f1f60>"
      ]
     },
     "metadata": {},
     "output_type": "display_data"
    }
   ],
   "source": [
    "plt.plot(model_fit1_4.epoch,model_fit1_4.history['acc'],'r', label = 'acc')\n",
    "plt.plot(model_fit1_4.epoch,model_fit1_4.history['val_acc'],'b', label = 'val_acc')\n",
    "plt.xlabel('No. of epochs')\n",
    "plt.ylabel('Val_acc/Acc')\n",
    "plt.legend()"
   ]
  },
  {
   "cell_type": "code",
   "execution_count": 376,
   "metadata": {},
   "outputs": [
    {
     "data": {
      "text/plain": [
       "0.56822810481376418"
      ]
     },
     "execution_count": 376,
     "metadata": {},
     "output_type": "execute_result"
    }
   ],
   "source": [
    "train_acc = model_fit1_4.history['acc'][epochs-1]\n",
    "train_acc"
   ]
  },
  {
   "cell_type": "code",
   "execution_count": 377,
   "metadata": {},
   "outputs": [
    {
     "name": "stdout",
     "output_type": "stream",
     "text": [
      "\r",
      " 32/154 [=====>........................] - ETA: 0s"
     ]
    },
    {
     "data": {
      "text/plain": [
       "0.6103896142600419"
      ]
     },
     "execution_count": 377,
     "metadata": {},
     "output_type": "execute_result"
    }
   ],
   "source": [
    "test_acc = model1_4.evaluate(x_test, y1_test)[1]\n",
    "test_acc"
   ]
  },
  {
   "cell_type": "code",
   "execution_count": 378,
   "metadata": {
    "collapsed": true
   },
   "outputs": [],
   "source": [
    "Heating_train_accuracy.append(train_acc)\n",
    "Heating_test_accuracy.append(test_acc)"
   ]
  },
  {
   "cell_type": "markdown",
   "metadata": {},
   "source": [
    "#### MODEL 1.5 With 6 Hidden Layers Using RELU"
   ]
  },
  {
   "cell_type": "code",
   "execution_count": 417,
   "metadata": {
    "collapsed": true
   },
   "outputs": [],
   "source": [
    "model1_5 = Sequential()"
   ]
  },
  {
   "cell_type": "code",
   "execution_count": 418,
   "metadata": {
    "collapsed": true
   },
   "outputs": [],
   "source": [
    "# Dense = No. of biases;  Param = No of connections + No. of bias\n",
    "\n",
    "## Layer 0: Input Layer, which is X\n",
    "\n",
    "## Layer 1: Hidden Layer;  No. of Bias = 600;\n",
    "model1_5.add(Dense(600, activation='relu', input_shape=(8,)))\n",
    "\n",
    "## Layer 2: Hidden Layer;  No. of Bias = 500;\n",
    "model1_5.add(Dense(500, activation='relu'))\n",
    "\n",
    "## Layer 3: Hidden Layer;  No. of Bias = 400;\n",
    "model1_5.add(Dense(400, activation='relu'))\n",
    "\n",
    "## Layer 4: Hidden Layer;  No. of Bias = 300;\n",
    "model1_5.add(Dense(300, activation='relu'))\n",
    "\n",
    "## Layer 5: Hidden Layer;  No. of Bias = 200;\n",
    "model1_5.add(Dense(200, activation='relu'))\n",
    "\n",
    "## Layer 6: Hidden Layer;  No. of Bias = 128;\n",
    "model1_5.add(Dense(128, activation='relu'))\n",
    "\n",
    "## Layer 7: Output Layer; No. of Bias = 4(0,1,2,3)\n",
    "model1_5.add(Dense(num_classes, activation='relu'))  "
   ]
  },
  {
   "cell_type": "code",
   "execution_count": 419,
   "metadata": {},
   "outputs": [
    {
     "name": "stdout",
     "output_type": "stream",
     "text": [
      "_________________________________________________________________\n",
      "Layer (type)                 Output Shape              Param #   \n",
      "=================================================================\n",
      "dense_159 (Dense)            (None, 600)               5400      \n",
      "_________________________________________________________________\n",
      "dense_160 (Dense)            (None, 500)               300500    \n",
      "_________________________________________________________________\n",
      "dense_161 (Dense)            (None, 400)               200400    \n",
      "_________________________________________________________________\n",
      "dense_162 (Dense)            (None, 300)               120300    \n",
      "_________________________________________________________________\n",
      "dense_163 (Dense)            (None, 200)               60200     \n",
      "_________________________________________________________________\n",
      "dense_164 (Dense)            (None, 128)               25728     \n",
      "_________________________________________________________________\n",
      "dense_165 (Dense)            (None, 4)                 516       \n",
      "=================================================================\n",
      "Total params: 713,044\n",
      "Trainable params: 713,044\n",
      "Non-trainable params: 0\n",
      "_________________________________________________________________\n"
     ]
    }
   ],
   "source": [
    "model1_5.summary()"
   ]
  },
  {
   "cell_type": "code",
   "execution_count": 420,
   "metadata": {
    "collapsed": true
   },
   "outputs": [],
   "source": [
    "model1_5.compile(optimizer = RMSprop(),\n",
    "                 loss = 'categorical_crossentropy',\n",
    "                 metrics = ['accuracy'])"
   ]
  },
  {
   "cell_type": "code",
   "execution_count": 421,
   "metadata": {},
   "outputs": [
    {
     "name": "stdout",
     "output_type": "stream",
     "text": [
      "Train on 491 samples, validate on 123 samples\n",
      "Epoch 1/10\n",
      "0s - loss: 4.7374 - acc: 0.4358 - val_loss: 4.5120 - val_acc: 0.6098\n",
      "Epoch 2/10\n",
      "0s - loss: 4.6698 - acc: 0.5886 - val_loss: 4.4769 - val_acc: 0.6098\n",
      "Epoch 3/10\n",
      "0s - loss: 4.6667 - acc: 0.5560 - val_loss: 4.4824 - val_acc: 0.6179\n",
      "Epoch 4/10\n",
      "0s - loss: 4.6641 - acc: 0.5947 - val_loss: 4.4908 - val_acc: 0.5854\n",
      "Epoch 5/10\n",
      "0s - loss: 4.6655 - acc: 0.5642 - val_loss: 4.4870 - val_acc: 0.6098\n",
      "Epoch 6/10\n",
      "0s - loss: 4.6614 - acc: 0.5743 - val_loss: 4.4883 - val_acc: 0.5854\n",
      "Epoch 7/10\n",
      "0s - loss: 4.6544 - acc: 0.5723 - val_loss: 4.4969 - val_acc: 0.5854\n",
      "Epoch 8/10\n",
      "0s - loss: 4.6585 - acc: 0.5723 - val_loss: 4.4614 - val_acc: 0.6179\n",
      "Epoch 9/10\n",
      "0s - loss: 4.6608 - acc: 0.5845 - val_loss: 4.4859 - val_acc: 0.6098\n",
      "Epoch 10/10\n",
      "0s - loss: 4.6617 - acc: 0.5723 - val_loss: 4.4640 - val_acc: 0.6098\n"
     ]
    }
   ],
   "source": [
    "model_fit1_5 = model1_5.fit(x_train, \n",
    "                            y1_train, \n",
    "                            batch_size=batch_size, \n",
    "                            epochs=epochs,\n",
    "                            validation_split = .2,\n",
    "                            verbose=2)"
   ]
  },
  {
   "cell_type": "code",
   "execution_count": 422,
   "metadata": {},
   "outputs": [
    {
     "name": "stdout",
     "output_type": "stream",
     "text": [
      "\r",
      " 32/154 [=====>........................] - ETA: 1s"
     ]
    }
   ],
   "source": [
    "y_hat1_5 = model1_5.predict_classes(x_test)"
   ]
  },
  {
   "cell_type": "code",
   "execution_count": 423,
   "metadata": {},
   "outputs": [
    {
     "data": {
      "text/plain": [
       "array([3, 3, 1, 1, 1, 0, 3, 3, 3, 0, 3, 3, 3, 0, 3, 0, 1, 1, 0, 0, 3, 3, 0,\n",
       "       3, 1, 1, 3, 3, 3, 3, 0, 3, 3, 1, 3, 3, 0, 0, 3, 3, 3, 3, 3, 1, 0, 0,\n",
       "       1, 1, 0, 3, 1, 3, 1, 0, 1, 3, 3, 3, 1, 3, 3, 1, 3, 3, 1, 1, 0, 3, 0,\n",
       "       0, 1, 3, 0, 1, 0, 3, 1, 0, 3, 3, 3, 3, 3, 3, 0, 3, 0, 0, 3, 0, 3, 0,\n",
       "       0, 3, 3, 1, 1, 3, 0, 1, 1, 1, 0, 3, 0, 3, 0, 0, 1, 0, 3, 3, 0, 0, 3,\n",
       "       3, 0, 0, 1, 3, 0, 3, 3, 3, 3, 1, 3, 3, 3, 1, 3, 1, 3, 3, 1, 0, 1, 3,\n",
       "       0, 1, 1, 3, 0, 0, 0, 1, 0, 3, 3, 1, 3, 1, 0, 0])"
      ]
     },
     "execution_count": 423,
     "metadata": {},
     "output_type": "execute_result"
    }
   ],
   "source": [
    "y_hat1_5"
   ]
  },
  {
   "cell_type": "code",
   "execution_count": 424,
   "metadata": {},
   "outputs": [
    {
     "data": {
      "text/html": [
       "<div>\n",
       "<table border=\"1\" class=\"dataframe\">\n",
       "  <thead>\n",
       "    <tr style=\"text-align: right;\">\n",
       "      <th>Efficiency_Y1</th>\n",
       "      <th>0</th>\n",
       "      <th>1</th>\n",
       "      <th>2</th>\n",
       "      <th>3</th>\n",
       "    </tr>\n",
       "    <tr>\n",
       "      <th>row_0</th>\n",
       "      <th></th>\n",
       "      <th></th>\n",
       "      <th></th>\n",
       "      <th></th>\n",
       "    </tr>\n",
       "  </thead>\n",
       "  <tbody>\n",
       "    <tr>\n",
       "      <th>0</th>\n",
       "      <td>29</td>\n",
       "      <td>16</td>\n",
       "      <td>0</td>\n",
       "      <td>0</td>\n",
       "    </tr>\n",
       "    <tr>\n",
       "      <th>1</th>\n",
       "      <td>11</td>\n",
       "      <td>23</td>\n",
       "      <td>4</td>\n",
       "      <td>0</td>\n",
       "    </tr>\n",
       "    <tr>\n",
       "      <th>3</th>\n",
       "      <td>0</td>\n",
       "      <td>0</td>\n",
       "      <td>32</td>\n",
       "      <td>39</td>\n",
       "    </tr>\n",
       "  </tbody>\n",
       "</table>\n",
       "</div>"
      ],
      "text/plain": [
       "Efficiency_Y1   0   1   2   3\n",
       "row_0                        \n",
       "0              29  16   0   0\n",
       "1              11  23   4   0\n",
       "3               0   0  32  39"
      ]
     },
     "execution_count": 424,
     "metadata": {},
     "output_type": "execute_result"
    }
   ],
   "source": [
    "pd.crosstab(y_hat1_5, Y1_test)"
   ]
  },
  {
   "cell_type": "code",
   "execution_count": 425,
   "metadata": {
    "scrolled": false
   },
   "outputs": [
    {
     "data": {
      "text/plain": [
       "<matplotlib.legend.Legend at 0x7ff89f0210b8>"
      ]
     },
     "execution_count": 425,
     "metadata": {},
     "output_type": "execute_result"
    },
    {
     "data": {
      "image/png": "[encoded data removed]",
      "text/plain": [
       "<matplotlib.figure.Figure at 0x7ff89f0be780>"
      ]
     },
     "metadata": {},
     "output_type": "display_data"
    }
   ],
   "source": [
    "plt.plot(model_fit1_5.epoch, model_fit1_5.history['acc'],'r', label = 'acc')\n",
    "plt.plot(model_fit1_5.epoch, model_fit1_5.history['val_acc'],'b', label = 'val_acc')\n",
    "plt.xlabel('No. of epochs')\n",
    "plt.ylabel('Val_acc/Acc')\n",
    "plt.legend()"
   ]
  },
  {
   "cell_type": "code",
   "execution_count": 426,
   "metadata": {},
   "outputs": [
    {
     "data": {
      "text/plain": [
       "0.57230143148884516"
      ]
     },
     "execution_count": 426,
     "metadata": {},
     "output_type": "execute_result"
    }
   ],
   "source": [
    "train_acc = model_fit1_5.history['acc'][epochs-1]\n",
    "train_acc"
   ]
  },
  {
   "cell_type": "code",
   "execution_count": 427,
   "metadata": {},
   "outputs": [
    {
     "name": "stdout",
     "output_type": "stream",
     "text": [
      "\r",
      " 32/154 [=====>........................] - ETA: 0s"
     ]
    },
    {
     "data": {
      "text/plain": [
       "0.59090909013500459"
      ]
     },
     "execution_count": 427,
     "metadata": {},
     "output_type": "execute_result"
    }
   ],
   "source": [
    "test_acc = model1_5.evaluate(x_test, y1_test)[1]\n",
    "test_acc"
   ]
  },
  {
   "cell_type": "code",
   "execution_count": 459,
   "metadata": {
    "collapsed": true
   },
   "outputs": [],
   "source": [
    "Heating_train_accuracy.append(train_acc)\n",
    "Heating_test_accuracy.append(test_acc)"
   ]
  },
  {
   "cell_type": "markdown",
   "metadata": {},
   "source": [
    ".\n",
    "\n",
    "\n",
    ".\n",
    "\n",
    "\n",
    ".\n",
    "\n",
    "\n",
    "."
   ]
  },
  {
   "cell_type": "markdown",
   "metadata": {},
   "source": [
    "## Cooling Load Models"
   ]
  },
  {
   "cell_type": "code",
   "execution_count": 496,
   "metadata": {
    "collapsed": true
   },
   "outputs": [],
   "source": [
    "batch_size = 128\n",
    "num_classes = 3 #(OUTPUTS = 0,1,2)\n",
    "epochs = 10"
   ]
  },
  {
   "cell_type": "code",
   "execution_count": 497,
   "metadata": {
    "collapsed": true
   },
   "outputs": [],
   "source": [
    "# One-Hot-Key Encoding\n",
    "y2_train = keras.utils.to_categorical(np.array(Y2_train), num_classes)\n",
    "y2_test = keras.utils.to_categorical(np.array(Y2_test), num_classes)"
   ]
  },
  {
   "cell_type": "code",
   "execution_count": 498,
   "metadata": {
    "collapsed": true
   },
   "outputs": [],
   "source": [
    "Cooling_train_accuracy = []\n",
    "Cooling_test_accuracy = []"
   ]
  },
  {
   "cell_type": "markdown",
   "metadata": {},
   "source": [
    "#### MODEL 2.1 With 2 Hidden Layers"
   ]
  },
  {
   "cell_type": "code",
   "execution_count": 501,
   "metadata": {
    "collapsed": true
   },
   "outputs": [],
   "source": [
    "model2_1 = Sequential()"
   ]
  },
  {
   "cell_type": "code",
   "execution_count": 502,
   "metadata": {
    "collapsed": true
   },
   "outputs": [],
   "source": [
    "# Dense = No. of biases;  Param = No of connections + No. of bias\n",
    "\n",
    "## Layer 0: Input Layer, which is X\n",
    "\n",
    "## Layer 1: Hidden Layer;  No. of Bias = 512;\n",
    "model2_1.add(Dense(512, activation='sigmoid', input_shape=(8,)))\n",
    "\n",
    "## Layer 2: Hidden Layer;  No. of Bias = 128;\n",
    "model2_1.add(Dense(128, activation='sigmoid'))\n",
    "\n",
    "## Layer 3: Output Layer; No. of Bias = 4(0,1,2,3)\n",
    "model2_1.add(Dense(num_classes, activation='sigmoid'))  "
   ]
  },
  {
   "cell_type": "code",
   "execution_count": 503,
   "metadata": {},
   "outputs": [
    {
     "name": "stdout",
     "output_type": "stream",
     "text": [
      "_________________________________________________________________\n",
      "Layer (type)                 Output Shape              Param #   \n",
      "=================================================================\n",
      "dense_172 (Dense)            (None, 512)               4608      \n",
      "_________________________________________________________________\n",
      "dense_173 (Dense)            (None, 128)               65664     \n",
      "_________________________________________________________________\n",
      "dense_174 (Dense)            (None, 3)                 387       \n",
      "=================================================================\n",
      "Total params: 70,659\n",
      "Trainable params: 70,659\n",
      "Non-trainable params: 0\n",
      "_________________________________________________________________\n"
     ]
    }
   ],
   "source": [
    "model2_1.summary()"
   ]
  },
  {
   "cell_type": "code",
   "execution_count": 504,
   "metadata": {
    "collapsed": true
   },
   "outputs": [],
   "source": [
    "model2_1.compile(optimizer = RMSprop(),\n",
    "                 loss = 'categorical_crossentropy',\n",
    "                 metrics = ['accuracy'])"
   ]
  },
  {
   "cell_type": "code",
   "execution_count": 505,
   "metadata": {},
   "outputs": [
    {
     "name": "stdout",
     "output_type": "stream",
     "text": [
      "Train on 491 samples, validate on 123 samples\n",
      "Epoch 1/10\n",
      "0s - loss: 0.8707 - acc: 0.5560 - val_loss: 0.6233 - val_acc: 0.7398\n",
      "Epoch 2/10\n",
      "0s - loss: 0.6525 - acc: 0.6782 - val_loss: 0.5973 - val_acc: 0.7398\n",
      "Epoch 3/10\n",
      "0s - loss: 0.6216 - acc: 0.6721 - val_loss: 0.5581 - val_acc: 0.7398\n",
      "Epoch 4/10\n",
      "0s - loss: 0.6024 - acc: 0.6558 - val_loss: 0.5681 - val_acc: 0.7236\n",
      "Epoch 5/10\n",
      "0s - loss: 0.5808 - acc: 0.6701 - val_loss: 0.5321 - val_acc: 0.7398\n",
      "Epoch 6/10\n",
      "0s - loss: 0.5905 - acc: 0.6721 - val_loss: 0.5316 - val_acc: 0.7317\n",
      "Epoch 7/10\n",
      "0s - loss: 0.5803 - acc: 0.6741 - val_loss: 0.5685 - val_acc: 0.6423\n",
      "Epoch 8/10\n",
      "0s - loss: 0.5612 - acc: 0.6640 - val_loss: 0.5160 - val_acc: 0.7236\n",
      "Epoch 9/10\n",
      "0s - loss: 0.5459 - acc: 0.7047 - val_loss: 0.5199 - val_acc: 0.7154\n",
      "Epoch 10/10\n",
      "0s - loss: 0.5525 - acc: 0.6497 - val_loss: 0.5311 - val_acc: 0.6423\n"
     ]
    }
   ],
   "source": [
    "model_fit2_1 = model2_1.fit(x_train, \n",
    "                            y2_train, \n",
    "                            batch_size = batch_size, \n",
    "                            epochs = epochs,\n",
    "                            validation_split = .2,\n",
    "                            verbose=2)"
   ]
  },
  {
   "cell_type": "code",
   "execution_count": 506,
   "metadata": {},
   "outputs": [
    {
     "name": "stdout",
     "output_type": "stream",
     "text": [
      "\r",
      " 32/154 [=====>........................] - ETA: 1s"
     ]
    }
   ],
   "source": [
    "y_hat2_1 = model2_1.predict_classes(x_test)"
   ]
  },
  {
   "cell_type": "code",
   "execution_count": 507,
   "metadata": {},
   "outputs": [
    {
     "data": {
      "text/plain": [
       "array([1, 1, 1, 0, 1, 0, 1, 1, 2, 0, 2, 2, 2, 0, 2, 0, 1, 0, 0, 0, 1, 1, 0,\n",
       "       1, 0, 1, 2, 2, 2, 2, 0, 1, 1, 1, 1, 2, 0, 0, 1, 1, 2, 2, 1, 1, 0, 0,\n",
       "       0, 0, 0, 1, 1, 1, 1, 0, 0, 1, 1, 1, 1, 2, 1, 1, 1, 1, 1, 0, 0, 1, 0,\n",
       "       0, 1, 2, 0, 1, 0, 2, 1, 0, 2, 1, 1, 2, 1, 1, 0, 1, 0, 0, 1, 0, 1, 0,\n",
       "       0, 1, 2, 1, 1, 1, 0, 1, 1, 1, 0, 1, 0, 1, 0, 0, 1, 0, 2, 2, 0, 0, 1,\n",
       "       1, 0, 0, 1, 2, 0, 2, 1, 1, 1, 1, 1, 2, 1, 1, 1, 1, 2, 1, 1, 0, 1, 1,\n",
       "       0, 0, 0, 1, 0, 0, 0, 0, 0, 1, 2, 0, 1, 1, 0, 0])"
      ]
     },
     "execution_count": 507,
     "metadata": {},
     "output_type": "execute_result"
    }
   ],
   "source": [
    "y_hat2_1"
   ]
  },
  {
   "cell_type": "code",
   "execution_count": 510,
   "metadata": {},
   "outputs": [
    {
     "data": {
      "text/html": [
       "<div>\n",
       "<table border=\"1\" class=\"dataframe\">\n",
       "  <thead>\n",
       "    <tr style=\"text-align: right;\">\n",
       "      <th>Efficiency_Y2</th>\n",
       "      <th>0</th>\n",
       "      <th>1</th>\n",
       "      <th>2</th>\n",
       "    </tr>\n",
       "    <tr>\n",
       "      <th>row_0</th>\n",
       "      <th></th>\n",
       "      <th></th>\n",
       "      <th></th>\n",
       "    </tr>\n",
       "  </thead>\n",
       "  <tbody>\n",
       "    <tr>\n",
       "      <th>0</th>\n",
       "      <td>46</td>\n",
       "      <td>10</td>\n",
       "      <td>0</td>\n",
       "    </tr>\n",
       "    <tr>\n",
       "      <th>1</th>\n",
       "      <td>11</td>\n",
       "      <td>40</td>\n",
       "      <td>22</td>\n",
       "    </tr>\n",
       "    <tr>\n",
       "      <th>2</th>\n",
       "      <td>0</td>\n",
       "      <td>0</td>\n",
       "      <td>25</td>\n",
       "    </tr>\n",
       "  </tbody>\n",
       "</table>\n",
       "</div>"
      ],
      "text/plain": [
       "Efficiency_Y2   0   1   2\n",
       "row_0                    \n",
       "0              46  10   0\n",
       "1              11  40  22\n",
       "2               0   0  25"
      ]
     },
     "execution_count": 510,
     "metadata": {},
     "output_type": "execute_result"
    }
   ],
   "source": [
    "pd.crosstab(y_hat2_1, Y2_test)"
   ]
  },
  {
   "cell_type": "code",
   "execution_count": 511,
   "metadata": {
    "scrolled": false
   },
   "outputs": [
    {
     "data": {
      "text/plain": [
       "<matplotlib.legend.Legend at 0x7ff89e0e5b00>"
      ]
     },
     "execution_count": 511,
     "metadata": {},
     "output_type": "execute_result"
    },
    {
     "data": {
      "image/png": "[encoded data removed]",
      "text/plain": [
       "<matplotlib.figure.Figure at 0x7ff89e115048>"
      ]
     },
     "metadata": {},
     "output_type": "display_data"
    }
   ],
   "source": [
    "plt.plot(model_fit2_1.epoch, model_fit2_1.history['acc'],'r', label = 'acc')\n",
    "plt.plot(model_fit2_1.epoch, model_fit2_1.history['val_acc'],'b', label = 'val_acc')\n",
    "plt.xlabel('No. of epochs')\n",
    "plt.ylabel('Val_acc/Acc')\n",
    "plt.legend()"
   ]
  },
  {
   "cell_type": "code",
   "execution_count": 512,
   "metadata": {},
   "outputs": [
    {
     "data": {
      "text/plain": [
       "0.64969449919741407"
      ]
     },
     "execution_count": 512,
     "metadata": {},
     "output_type": "execute_result"
    }
   ],
   "source": [
    "train_acc = model_fit2_1.history['acc'][epochs-1]\n",
    "train_acc"
   ]
  },
  {
   "cell_type": "code",
   "execution_count": 514,
   "metadata": {},
   "outputs": [
    {
     "name": "stdout",
     "output_type": "stream",
     "text": [
      "\r",
      " 32/154 [=====>........................] - ETA: 0s"
     ]
    },
    {
     "data": {
      "text/plain": [
       "0.72077921845696191"
      ]
     },
     "execution_count": 514,
     "metadata": {},
     "output_type": "execute_result"
    }
   ],
   "source": [
    "test_acc = model2_1.evaluate(x_test, y2_test)[1]\n",
    "test_acc"
   ]
  },
  {
   "cell_type": "code",
   "execution_count": 515,
   "metadata": {
    "collapsed": true
   },
   "outputs": [],
   "source": [
    "Cooling_train_accuracy.append(train_acc)\n",
    "Cooling_test_accuracy.append(test_acc)"
   ]
  },
  {
   "cell_type": "markdown",
   "metadata": {},
   "source": [
    "#### MODEL 2.2 With 3 Hidden Layers"
   ]
  },
  {
   "cell_type": "code",
   "execution_count": 517,
   "metadata": {
    "collapsed": true
   },
   "outputs": [],
   "source": [
    "model2_2 = Sequential()"
   ]
  },
  {
   "cell_type": "code",
   "execution_count": 518,
   "metadata": {
    "collapsed": true
   },
   "outputs": [],
   "source": [
    "# Dense = No. of biases;  Param = No of connections + No. of bias\n",
    "\n",
    "## Layer 0: Input Layer, which is X\n",
    "\n",
    "## Layer 1: Hidden Layer;  No. of Bias = 512;\n",
    "model2_2.add(Dense(512, activation='sigmoid', input_shape=(8,)))\n",
    "\n",
    "## Layer 2: Hidden Layer;  No. of Bias = 256;\n",
    "model2_2.add(Dense(256, activation='sigmoid'))\n",
    "\n",
    "## Layer 3: Hidden Layer;  No. of Bias = 128;\n",
    "model2_2.add(Dense(128, activation='sigmoid'))\n",
    "\n",
    "## Layer 4: Output Layer; No. of Bias = 4(0,1,2,3)\n",
    "model2_2.add(Dense(num_classes, activation='sigmoid'))  "
   ]
  },
  {
   "cell_type": "code",
   "execution_count": 519,
   "metadata": {},
   "outputs": [
    {
     "name": "stdout",
     "output_type": "stream",
     "text": [
      "_________________________________________________________________\n",
      "Layer (type)                 Output Shape              Param #   \n",
      "=================================================================\n",
      "dense_175 (Dense)            (None, 512)               4608      \n",
      "_________________________________________________________________\n",
      "dense_176 (Dense)            (None, 256)               131328    \n",
      "_________________________________________________________________\n",
      "dense_177 (Dense)            (None, 128)               32896     \n",
      "_________________________________________________________________\n",
      "dense_178 (Dense)            (None, 3)                 387       \n",
      "=================================================================\n",
      "Total params: 169,219\n",
      "Trainable params: 169,219\n",
      "Non-trainable params: 0\n",
      "_________________________________________________________________\n"
     ]
    }
   ],
   "source": [
    "model2_2.summary()"
   ]
  },
  {
   "cell_type": "code",
   "execution_count": 520,
   "metadata": {
    "collapsed": true
   },
   "outputs": [],
   "source": [
    "model2_2.compile(optimizer = RMSprop(),\n",
    "                 loss = 'categorical_crossentropy',\n",
    "                 metrics = ['accuracy'])"
   ]
  },
  {
   "cell_type": "code",
   "execution_count": 521,
   "metadata": {},
   "outputs": [
    {
     "name": "stdout",
     "output_type": "stream",
     "text": [
      "Train on 491 samples, validate on 123 samples\n",
      "Epoch 1/10\n",
      "0s - loss: 0.9620 - acc: 0.5397 - val_loss: 0.7058 - val_acc: 0.7398\n",
      "Epoch 2/10\n",
      "0s - loss: 0.7106 - acc: 0.6741 - val_loss: 0.6343 - val_acc: 0.7398\n",
      "Epoch 3/10\n",
      "0s - loss: 0.6534 - acc: 0.6782 - val_loss: 0.5979 - val_acc: 0.7398\n",
      "Epoch 4/10\n",
      "0s - loss: 0.6373 - acc: 0.6741 - val_loss: 0.5643 - val_acc: 0.7398\n",
      "Epoch 5/10\n",
      "0s - loss: 0.6113 - acc: 0.6701 - val_loss: 0.5669 - val_acc: 0.7398\n",
      "Epoch 6/10\n",
      "0s - loss: 0.6027 - acc: 0.6864 - val_loss: 0.5479 - val_acc: 0.6911\n",
      "Epoch 7/10\n",
      "0s - loss: 0.5952 - acc: 0.6436 - val_loss: 0.5372 - val_acc: 0.7073\n",
      "Epoch 8/10\n",
      "0s - loss: 0.5744 - acc: 0.6436 - val_loss: 0.5698 - val_acc: 0.6423\n",
      "Epoch 9/10\n",
      "0s - loss: 0.5723 - acc: 0.6782 - val_loss: 0.5410 - val_acc: 0.7154\n",
      "Epoch 10/10\n",
      "0s - loss: 0.5622 - acc: 0.6640 - val_loss: 0.5318 - val_acc: 0.5610\n"
     ]
    }
   ],
   "source": [
    "model_fit2_2 = model2_2.fit(x_train, \n",
    "                            y2_train, \n",
    "                            batch_size = batch_size, \n",
    "                            epochs = epochs,\n",
    "                            validation_split = .2,\n",
    "                            verbose=2)"
   ]
  },
  {
   "cell_type": "code",
   "execution_count": 522,
   "metadata": {},
   "outputs": [
    {
     "name": "stdout",
     "output_type": "stream",
     "text": [
      "\r",
      " 32/154 [=====>........................] - ETA: 1s"
     ]
    }
   ],
   "source": [
    "y_hat2_2 = model2_2.predict_classes(x_test)"
   ]
  },
  {
   "cell_type": "code",
   "execution_count": 523,
   "metadata": {},
   "outputs": [
    {
     "data": {
      "text/plain": [
       "array([1, 1, 0, 0, 0, 0, 1, 2, 2, 0, 2, 2, 2, 0, 2, 0, 1, 0, 0, 0, 2, 1, 0,\n",
       "       1, 0, 1, 2, 2, 2, 2, 0, 1, 1, 1, 1, 2, 0, 0, 1, 1, 2, 2, 1, 0, 0, 0,\n",
       "       0, 0, 0, 1, 1, 2, 1, 0, 0, 1, 1, 1, 0, 2, 1, 0, 1, 1, 0, 0, 0, 1, 0,\n",
       "       0, 0, 2, 0, 1, 0, 2, 1, 0, 2, 1, 1, 2, 2, 1, 0, 1, 0, 0, 1, 0, 1, 0,\n",
       "       0, 1, 2, 0, 1, 1, 0, 0, 1, 0, 0, 1, 0, 2, 0, 0, 1, 0, 2, 2, 0, 0, 1,\n",
       "       1, 0, 0, 0, 2, 0, 2, 1, 1, 1, 1, 1, 2, 1, 0, 2, 1, 2, 1, 0, 0, 0, 2,\n",
       "       0, 0, 0, 1, 0, 0, 0, 0, 0, 1, 2, 0, 1, 0, 0, 0])"
      ]
     },
     "execution_count": 523,
     "metadata": {},
     "output_type": "execute_result"
    }
   ],
   "source": [
    "y_hat2_2"
   ]
  },
  {
   "cell_type": "code",
   "execution_count": 524,
   "metadata": {},
   "outputs": [
    {
     "data": {
      "text/html": [
       "<div>\n",
       "<table border=\"1\" class=\"dataframe\">\n",
       "  <thead>\n",
       "    <tr style=\"text-align: right;\">\n",
       "      <th>Efficiency_Y2</th>\n",
       "      <th>0</th>\n",
       "      <th>1</th>\n",
       "      <th>2</th>\n",
       "    </tr>\n",
       "    <tr>\n",
       "      <th>row_0</th>\n",
       "      <th></th>\n",
       "      <th></th>\n",
       "      <th></th>\n",
       "    </tr>\n",
       "  </thead>\n",
       "  <tbody>\n",
       "    <tr>\n",
       "      <th>0</th>\n",
       "      <td>47</td>\n",
       "      <td>24</td>\n",
       "      <td>0</td>\n",
       "    </tr>\n",
       "    <tr>\n",
       "      <th>1</th>\n",
       "      <td>10</td>\n",
       "      <td>21</td>\n",
       "      <td>20</td>\n",
       "    </tr>\n",
       "    <tr>\n",
       "      <th>2</th>\n",
       "      <td>0</td>\n",
       "      <td>5</td>\n",
       "      <td>27</td>\n",
       "    </tr>\n",
       "  </tbody>\n",
       "</table>\n",
       "</div>"
      ],
      "text/plain": [
       "Efficiency_Y2   0   1   2\n",
       "row_0                    \n",
       "0              47  24   0\n",
       "1              10  21  20\n",
       "2               0   5  27"
      ]
     },
     "execution_count": 524,
     "metadata": {},
     "output_type": "execute_result"
    }
   ],
   "source": [
    "pd.crosstab(y_hat2_2, Y2_test)"
   ]
  },
  {
   "cell_type": "code",
   "execution_count": 525,
   "metadata": {
    "scrolled": false
   },
   "outputs": [
    {
     "data": {
      "text/plain": [
       "<matplotlib.legend.Legend at 0x7ff89dd2c438>"
      ]
     },
     "execution_count": 525,
     "metadata": {},
     "output_type": "execute_result"
    },
    {
     "data": {
      "image/png": "[encoded data removed]",
      "text/plain": [
       "<matplotlib.figure.Figure at 0x7ff89dd57588>"
      ]
     },
     "metadata": {},
     "output_type": "display_data"
    }
   ],
   "source": [
    "plt.plot(model_fit2_2.epoch, model_fit2_2.history['acc'],'r', label = 'acc')\n",
    "plt.plot(model_fit2_2.epoch, model_fit2_2.history['val_acc'],'b', label = 'val_acc')\n",
    "plt.xlabel('No. of epochs')\n",
    "plt.ylabel('Val_acc/Acc')\n",
    "plt.legend()"
   ]
  },
  {
   "cell_type": "code",
   "execution_count": 526,
   "metadata": {},
   "outputs": [
    {
     "data": {
      "text/plain": [
       "0.66395111603552359"
      ]
     },
     "execution_count": 526,
     "metadata": {},
     "output_type": "execute_result"
    }
   ],
   "source": [
    "train_acc = model_fit2_2.history['acc'][epochs-1]\n",
    "train_acc"
   ]
  },
  {
   "cell_type": "code",
   "execution_count": 528,
   "metadata": {},
   "outputs": [
    {
     "name": "stdout",
     "output_type": "stream",
     "text": [
      "\r",
      " 32/154 [=====>........................] - ETA: 0s"
     ]
    },
    {
     "data": {
      "text/plain": [
       "0.61688311688311692"
      ]
     },
     "execution_count": 528,
     "metadata": {},
     "output_type": "execute_result"
    }
   ],
   "source": [
    "test_acc = model2_2.evaluate(x_test, y2_test)[1]\n",
    "test_acc"
   ]
  },
  {
   "cell_type": "code",
   "execution_count": 529,
   "metadata": {
    "collapsed": true
   },
   "outputs": [],
   "source": [
    "Cooling_train_accuracy.append(train_acc)\n",
    "Cooling_test_accuracy.append(test_acc)"
   ]
  },
  {
   "cell_type": "markdown",
   "metadata": {},
   "source": [
    "#### MODEL 2.3 With 4 Hidden Layers"
   ]
  },
  {
   "cell_type": "code",
   "execution_count": 531,
   "metadata": {
    "collapsed": true
   },
   "outputs": [],
   "source": [
    "model2_3 = Sequential()"
   ]
  },
  {
   "cell_type": "code",
   "execution_count": 532,
   "metadata": {
    "collapsed": true
   },
   "outputs": [],
   "source": [
    "# Dense = No. of biases;  Param = No of connections + No. of bias\n",
    "\n",
    "## Layer 0: Input Layer, which is X\n",
    "\n",
    "## Layer 1: Hidden Layer;  No. of Bias = 512;\n",
    "model2_3.add(Dense(512, activation='sigmoid', input_shape=(8,)))\n",
    "\n",
    "## Layer 2: Hidden Layer;  No. of Bias = 400;\n",
    "model2_3.add(Dense(400, activation='sigmoid'))\n",
    "\n",
    "## Layer 3: Hidden Layer;  No. of Bias = 256;\n",
    "model2_3.add(Dense(256, activation='sigmoid'))\n",
    "\n",
    "## Layer 4: Hidden Layer;  No. of Bias = 128;\n",
    "model2_3.add(Dense(128, activation='sigmoid'))\n",
    "\n",
    "## Layer 5: Output Layer; No. of Bias = 4(0,1,2,3)\n",
    "model2_3.add(Dense(num_classes, activation='sigmoid'))  "
   ]
  },
  {
   "cell_type": "code",
   "execution_count": 533,
   "metadata": {},
   "outputs": [
    {
     "name": "stdout",
     "output_type": "stream",
     "text": [
      "_________________________________________________________________\n",
      "Layer (type)                 Output Shape              Param #   \n",
      "=================================================================\n",
      "dense_179 (Dense)            (None, 512)               4608      \n",
      "_________________________________________________________________\n",
      "dense_180 (Dense)            (None, 400)               205200    \n",
      "_________________________________________________________________\n",
      "dense_181 (Dense)            (None, 256)               102656    \n",
      "_________________________________________________________________\n",
      "dense_182 (Dense)            (None, 128)               32896     \n",
      "_________________________________________________________________\n",
      "dense_183 (Dense)            (None, 3)                 387       \n",
      "=================================================================\n",
      "Total params: 345,747\n",
      "Trainable params: 345,747\n",
      "Non-trainable params: 0\n",
      "_________________________________________________________________\n"
     ]
    }
   ],
   "source": [
    "model2_3.summary()"
   ]
  },
  {
   "cell_type": "code",
   "execution_count": 534,
   "metadata": {
    "collapsed": true
   },
   "outputs": [],
   "source": [
    "model2_3.compile(optimizer = RMSprop(),\n",
    "                 loss = 'categorical_crossentropy',\n",
    "                 metrics = ['accuracy'])"
   ]
  },
  {
   "cell_type": "code",
   "execution_count": 535,
   "metadata": {},
   "outputs": [
    {
     "name": "stdout",
     "output_type": "stream",
     "text": [
      "Train on 491 samples, validate on 123 samples\n",
      "Epoch 1/10\n",
      "0s - loss: 1.1018 - acc: 0.5642 - val_loss: 0.9959 - val_acc: 0.5366\n",
      "Epoch 2/10\n",
      "0s - loss: 0.8787 - acc: 0.6212 - val_loss: 0.6729 - val_acc: 0.7398\n",
      "Epoch 3/10\n",
      "0s - loss: 0.6894 - acc: 0.6782 - val_loss: 0.6253 - val_acc: 0.7398\n",
      "Epoch 4/10\n",
      "0s - loss: 0.6595 - acc: 0.6782 - val_loss: 0.6206 - val_acc: 0.7398\n",
      "Epoch 5/10\n",
      "0s - loss: 0.6557 - acc: 0.6782 - val_loss: 0.5899 - val_acc: 0.7398\n",
      "Epoch 6/10\n",
      "0s - loss: 0.6410 - acc: 0.6782 - val_loss: 0.5883 - val_acc: 0.7398\n",
      "Epoch 7/10\n",
      "0s - loss: 0.6285 - acc: 0.6741 - val_loss: 0.5813 - val_acc: 0.7398\n",
      "Epoch 8/10\n",
      "0s - loss: 0.6296 - acc: 0.6721 - val_loss: 0.5724 - val_acc: 0.7398\n",
      "Epoch 9/10\n",
      "0s - loss: 0.6217 - acc: 0.6782 - val_loss: 0.5857 - val_acc: 0.6504\n",
      "Epoch 10/10\n",
      "0s - loss: 0.5912 - acc: 0.6904 - val_loss: 0.5319 - val_acc: 0.7398\n"
     ]
    }
   ],
   "source": [
    "model_fit2_3 = model2_3.fit(x_train, \n",
    "                            y2_train, \n",
    "                            batch_size = batch_size, \n",
    "                            epochs = epochs,\n",
    "                            validation_split = .2,\n",
    "                            verbose=2)"
   ]
  },
  {
   "cell_type": "code",
   "execution_count": 536,
   "metadata": {},
   "outputs": [
    {
     "name": "stdout",
     "output_type": "stream",
     "text": [
      "\r",
      " 32/154 [=====>........................] - ETA: 1s"
     ]
    }
   ],
   "source": [
    "y_hat2_3 = model2_3.predict_classes(x_test)"
   ]
  },
  {
   "cell_type": "code",
   "execution_count": 537,
   "metadata": {},
   "outputs": [
    {
     "data": {
      "text/plain": [
       "array([2, 2, 0, 0, 0, 0, 2, 2, 2, 0, 2, 2, 2, 0, 2, 0, 0, 0, 0, 0, 2, 2, 0,\n",
       "       2, 0, 0, 2, 2, 2, 2, 0, 2, 2, 0, 2, 2, 0, 0, 2, 2, 2, 2, 2, 0, 0, 0,\n",
       "       0, 0, 0, 2, 0, 2, 0, 0, 0, 2, 2, 2, 0, 2, 2, 0, 2, 2, 0, 0, 0, 2, 0,\n",
       "       0, 0, 2, 0, 0, 0, 2, 0, 0, 2, 2, 2, 2, 2, 2, 0, 2, 0, 0, 2, 0, 2, 0,\n",
       "       0, 2, 2, 0, 0, 2, 0, 0, 0, 0, 0, 2, 0, 2, 0, 0, 0, 0, 2, 2, 0, 0, 2,\n",
       "       2, 0, 0, 0, 2, 0, 2, 2, 2, 2, 0, 2, 2, 2, 0, 2, 0, 2, 2, 0, 0, 0, 2,\n",
       "       0, 0, 0, 2, 0, 0, 0, 0, 0, 2, 2, 0, 2, 0, 0, 0])"
      ]
     },
     "execution_count": 537,
     "metadata": {},
     "output_type": "execute_result"
    }
   ],
   "source": [
    "y_hat2_3"
   ]
  },
  {
   "cell_type": "code",
   "execution_count": 538,
   "metadata": {},
   "outputs": [
    {
     "data": {
      "text/html": [
       "<div>\n",
       "<table border=\"1\" class=\"dataframe\">\n",
       "  <thead>\n",
       "    <tr style=\"text-align: right;\">\n",
       "      <th>Efficiency_Y2</th>\n",
       "      <th>0</th>\n",
       "      <th>1</th>\n",
       "      <th>2</th>\n",
       "    </tr>\n",
       "    <tr>\n",
       "      <th>row_0</th>\n",
       "      <th></th>\n",
       "      <th></th>\n",
       "      <th></th>\n",
       "    </tr>\n",
       "  </thead>\n",
       "  <tbody>\n",
       "    <tr>\n",
       "      <th>0</th>\n",
       "      <td>57</td>\n",
       "      <td>26</td>\n",
       "      <td>0</td>\n",
       "    </tr>\n",
       "    <tr>\n",
       "      <th>2</th>\n",
       "      <td>0</td>\n",
       "      <td>24</td>\n",
       "      <td>47</td>\n",
       "    </tr>\n",
       "  </tbody>\n",
       "</table>\n",
       "</div>"
      ],
      "text/plain": [
       "Efficiency_Y2   0   1   2\n",
       "row_0                    \n",
       "0              57  26   0\n",
       "2               0  24  47"
      ]
     },
     "execution_count": 538,
     "metadata": {},
     "output_type": "execute_result"
    }
   ],
   "source": [
    "pd.crosstab(y_hat2_3, Y2_test)"
   ]
  },
  {
   "cell_type": "code",
   "execution_count": 539,
   "metadata": {
    "scrolled": false
   },
   "outputs": [
    {
     "data": {
      "text/plain": [
       "<matplotlib.legend.Legend at 0x7ff89d8ec128>"
      ]
     },
     "execution_count": 539,
     "metadata": {},
     "output_type": "execute_result"
    },
    {
     "data": {
      "image/png": "[encoded data removed]",
      "text/plain": [
       "<matplotlib.figure.Figure at 0x7ff89d9162e8>"
      ]
     },
     "metadata": {},
     "output_type": "display_data"
    }
   ],
   "source": [
    "plt.plot(model_fit2_3.epoch, model_fit2_3.history['acc'],'r', label = 'acc')\n",
    "plt.plot(model_fit2_3.epoch, model_fit2_3.history['val_acc'],'b', label = 'val_acc')\n",
    "plt.xlabel('No. of epochs')\n",
    "plt.ylabel('Val_acc/Acc')\n",
    "plt.legend()"
   ]
  },
  {
   "cell_type": "code",
   "execution_count": 540,
   "metadata": {},
   "outputs": [
    {
     "data": {
      "text/plain": [
       "0.6904277036729024"
      ]
     },
     "execution_count": 540,
     "metadata": {},
     "output_type": "execute_result"
    }
   ],
   "source": [
    "train_acc = model_fit2_3.history['acc'][epochs-1]\n",
    "train_acc"
   ]
  },
  {
   "cell_type": "code",
   "execution_count": 541,
   "metadata": {},
   "outputs": [
    {
     "name": "stdout",
     "output_type": "stream",
     "text": [
      "\r",
      " 32/154 [=====>........................] - ETA: 0s"
     ]
    },
    {
     "data": {
      "text/plain": [
       "0.67532467455058898"
      ]
     },
     "execution_count": 541,
     "metadata": {},
     "output_type": "execute_result"
    }
   ],
   "source": [
    "test_acc = model2_3.evaluate(x_test, y2_test)[1]\n",
    "test_acc"
   ]
  },
  {
   "cell_type": "code",
   "execution_count": 542,
   "metadata": {
    "collapsed": true
   },
   "outputs": [],
   "source": [
    "Cooling_train_accuracy.append(train_acc)\n",
    "Cooling_test_accuracy.append(test_acc)"
   ]
  },
  {
   "cell_type": "markdown",
   "metadata": {},
   "source": [
    "#### MODEL 2.4 with 5 Hidden Layers"
   ]
  },
  {
   "cell_type": "code",
   "execution_count": 584,
   "metadata": {
    "collapsed": true
   },
   "outputs": [],
   "source": [
    "model2_4 = Sequential()"
   ]
  },
  {
   "cell_type": "code",
   "execution_count": 585,
   "metadata": {
    "collapsed": true
   },
   "outputs": [],
   "source": [
    "# Dense = No. of biases;  Param = No of connections + No. of bias\n",
    "\n",
    "## Layer 0: Input Layer, which is X\n",
    "\n",
    "## Layer 1: Hidden Layer;  No. of Bias = 600;\n",
    "model2_4.add(Dense(600, activation='sigmoid', input_shape=(8,)))\n",
    "\n",
    "## Layer 2: Hidden Layer;  No. of Bias = 500;\n",
    "model2_4.add(Dense(500, activation='sigmoid'))\n",
    "\n",
    "## Layer 3: Hidden Layer;  No. of Bias = 400;\n",
    "model2_4.add(Dense(400, activation='sigmoid'))\n",
    "\n",
    "## Layer 4: Hidden Layer;  No. of Bias = 300;\n",
    "model2_4.add(Dense(300, activation='sigmoid'))\n",
    "\n",
    "## Layer 5: Hidden Layer;  No. of Bias = 128;\n",
    "model2_4.add(Dense(128, activation='sigmoid'))\n",
    "\n",
    "## Layer 6: Output Layer; No. of Bias = 4(0,1,2,3)\n",
    "model2_4.add(Dense(num_classes, activation='sigmoid'))  "
   ]
  },
  {
   "cell_type": "code",
   "execution_count": 586,
   "metadata": {},
   "outputs": [
    {
     "name": "stdout",
     "output_type": "stream",
     "text": [
      "_________________________________________________________________\n",
      "Layer (type)                 Output Shape              Param #   \n",
      "=================================================================\n",
      "dense_214 (Dense)            (None, 600)               5400      \n",
      "_________________________________________________________________\n",
      "dense_215 (Dense)            (None, 500)               300500    \n",
      "_________________________________________________________________\n",
      "dense_216 (Dense)            (None, 400)               200400    \n",
      "_________________________________________________________________\n",
      "dense_217 (Dense)            (None, 300)               120300    \n",
      "_________________________________________________________________\n",
      "dense_218 (Dense)            (None, 128)               38528     \n",
      "_________________________________________________________________\n",
      "dense_219 (Dense)            (None, 3)                 387       \n",
      "=================================================================\n",
      "Total params: 665,515\n",
      "Trainable params: 665,515\n",
      "Non-trainable params: 0\n",
      "_________________________________________________________________\n"
     ]
    }
   ],
   "source": [
    "model2_4.summary()"
   ]
  },
  {
   "cell_type": "code",
   "execution_count": 587,
   "metadata": {
    "collapsed": true
   },
   "outputs": [],
   "source": [
    "model2_4.compile(optimizer = RMSprop(),\n",
    "                 loss = 'categorical_crossentropy',\n",
    "                 metrics = ['accuracy'])"
   ]
  },
  {
   "cell_type": "code",
   "execution_count": 588,
   "metadata": {},
   "outputs": [
    {
     "name": "stdout",
     "output_type": "stream",
     "text": [
      "Train on 491 samples, validate on 123 samples\n",
      "Epoch 1/10\n",
      "0s - loss: 1.1395 - acc: 0.3299 - val_loss: 1.0184 - val_acc: 0.6748\n",
      "Epoch 2/10\n",
      "0s - loss: 0.9199 - acc: 0.5560 - val_loss: 0.6840 - val_acc: 0.7398\n",
      "Epoch 3/10\n",
      "0s - loss: 0.6998 - acc: 0.6782 - val_loss: 0.6410 - val_acc: 0.7398\n",
      "Epoch 4/10\n",
      "0s - loss: 0.6569 - acc: 0.6782 - val_loss: 0.5947 - val_acc: 0.7398\n",
      "Epoch 5/10\n",
      "0s - loss: 0.6467 - acc: 0.6782 - val_loss: 0.6305 - val_acc: 0.7398\n",
      "Epoch 6/10\n",
      "0s - loss: 0.6519 - acc: 0.6782 - val_loss: 0.5898 - val_acc: 0.7398\n",
      "Epoch 7/10\n",
      "0s - loss: 0.6416 - acc: 0.6782 - val_loss: 0.5812 - val_acc: 0.7398\n",
      "Epoch 8/10\n",
      "0s - loss: 0.6363 - acc: 0.6782 - val_loss: 0.5877 - val_acc: 0.7398\n",
      "Epoch 9/10\n",
      "0s - loss: 0.6395 - acc: 0.6802 - val_loss: 0.5771 - val_acc: 0.7398\n",
      "Epoch 10/10\n",
      "0s - loss: 0.6394 - acc: 0.6782 - val_loss: 0.5723 - val_acc: 0.7398\n"
     ]
    }
   ],
   "source": [
    "model_fit2_4 = model2_4.fit(x_train, \n",
    "                            y2_train, \n",
    "                            batch_size=batch_size, \n",
    "                            epochs=epochs,\n",
    "                            validation_split = .2,\n",
    "                            verbose=2)"
   ]
  },
  {
   "cell_type": "code",
   "execution_count": 589,
   "metadata": {},
   "outputs": [
    {
     "name": "stdout",
     "output_type": "stream",
     "text": [
      "\r",
      " 32/154 [=====>........................] - ETA: 1s"
     ]
    }
   ],
   "source": [
    "y_hat2_4 = model2_4.predict_classes(x_test)"
   ]
  },
  {
   "cell_type": "code",
   "execution_count": 590,
   "metadata": {},
   "outputs": [
    {
     "data": {
      "text/plain": [
       "array([2, 2, 0, 0, 0, 0, 2, 2, 2, 0, 2, 2, 2, 0, 2, 0, 0, 0, 0, 0, 2, 2, 0,\n",
       "       2, 0, 0, 2, 2, 2, 2, 0, 2, 2, 0, 2, 2, 0, 0, 2, 2, 2, 2, 2, 0, 0, 0,\n",
       "       0, 0, 0, 2, 0, 2, 0, 0, 0, 2, 2, 2, 0, 2, 2, 0, 2, 2, 0, 0, 0, 2, 0,\n",
       "       0, 0, 2, 0, 0, 0, 2, 0, 0, 2, 2, 2, 2, 2, 2, 0, 2, 0, 0, 2, 0, 2, 0,\n",
       "       0, 2, 2, 0, 0, 2, 0, 0, 0, 0, 0, 2, 0, 2, 0, 0, 0, 0, 2, 2, 0, 0, 2,\n",
       "       2, 0, 0, 0, 2, 0, 2, 2, 2, 2, 0, 2, 2, 2, 0, 2, 0, 2, 2, 0, 0, 0, 2,\n",
       "       0, 0, 0, 2, 0, 0, 0, 0, 0, 2, 2, 0, 2, 0, 0, 0])"
      ]
     },
     "execution_count": 590,
     "metadata": {},
     "output_type": "execute_result"
    }
   ],
   "source": [
    "y_hat2_4"
   ]
  },
  {
   "cell_type": "code",
   "execution_count": 591,
   "metadata": {},
   "outputs": [
    {
     "data": {
      "text/html": [
       "<div>\n",
       "<table border=\"1\" class=\"dataframe\">\n",
       "  <thead>\n",
       "    <tr style=\"text-align: right;\">\n",
       "      <th>Efficiency_Y2</th>\n",
       "      <th>0</th>\n",
       "      <th>1</th>\n",
       "      <th>2</th>\n",
       "    </tr>\n",
       "    <tr>\n",
       "      <th>row_0</th>\n",
       "      <th></th>\n",
       "      <th></th>\n",
       "      <th></th>\n",
       "    </tr>\n",
       "  </thead>\n",
       "  <tbody>\n",
       "    <tr>\n",
       "      <th>0</th>\n",
       "      <td>57</td>\n",
       "      <td>26</td>\n",
       "      <td>0</td>\n",
       "    </tr>\n",
       "    <tr>\n",
       "      <th>2</th>\n",
       "      <td>0</td>\n",
       "      <td>24</td>\n",
       "      <td>47</td>\n",
       "    </tr>\n",
       "  </tbody>\n",
       "</table>\n",
       "</div>"
      ],
      "text/plain": [
       "Efficiency_Y2   0   1   2\n",
       "row_0                    \n",
       "0              57  26   0\n",
       "2               0  24  47"
      ]
     },
     "execution_count": 591,
     "metadata": {},
     "output_type": "execute_result"
    }
   ],
   "source": [
    "pd.crosstab(y_hat2_4, Y2_test)"
   ]
  },
  {
   "cell_type": "code",
   "execution_count": 592,
   "metadata": {
    "scrolled": false
   },
   "outputs": [
    {
     "data": {
      "text/plain": [
       "<matplotlib.legend.Legend at 0x7ff89866d400>"
      ]
     },
     "execution_count": 592,
     "metadata": {},
     "output_type": "execute_result"
    },
    {
     "data": {
      "image/png": "[encoded data removed]",
      "text/plain": [
       "<matplotlib.figure.Figure at 0x7ff8986829e8>"
      ]
     },
     "metadata": {},
     "output_type": "display_data"
    }
   ],
   "source": [
    "plt.plot(model_fit2_4.epoch,model_fit2_4.history['acc'],'r', label = 'acc')\n",
    "plt.plot(model_fit2_4.epoch,model_fit2_4.history['val_acc'],'b', label = 'val_acc')\n",
    "plt.xlabel('No. of epochs')\n",
    "plt.ylabel('Val_acc/Acc')\n",
    "plt.legend()"
   ]
  },
  {
   "cell_type": "code",
   "execution_count": 593,
   "metadata": {},
   "outputs": [
    {
     "data": {
      "text/plain": [
       "0.67820774367773362"
      ]
     },
     "execution_count": 593,
     "metadata": {},
     "output_type": "execute_result"
    }
   ],
   "source": [
    "train_acc = model_fit2_4.history['acc'][epochs-1]\n",
    "train_acc"
   ]
  },
  {
   "cell_type": "code",
   "execution_count": 594,
   "metadata": {},
   "outputs": [
    {
     "name": "stdout",
     "output_type": "stream",
     "text": [
      "\r",
      " 32/154 [=====>........................] - ETA: 0s"
     ]
    },
    {
     "data": {
      "text/plain": [
       "0.67532467455058898"
      ]
     },
     "execution_count": 594,
     "metadata": {},
     "output_type": "execute_result"
    }
   ],
   "source": [
    "test_acc = model2_4.evaluate(x_test, y2_test)[1]\n",
    "test_acc"
   ]
  },
  {
   "cell_type": "code",
   "execution_count": 595,
   "metadata": {
    "collapsed": true
   },
   "outputs": [],
   "source": [
    "Cooling_train_accuracy.append(train_acc)\n",
    "Cooling_test_accuracy.append(test_acc)"
   ]
  },
  {
   "cell_type": "markdown",
   "metadata": {},
   "source": [
    "#### MODEL 2.5 With 6 Hidden Layers Using RELU"
   ]
  },
  {
   "cell_type": "code",
   "execution_count": 618,
   "metadata": {
    "collapsed": true
   },
   "outputs": [],
   "source": [
    "model2_5 = Sequential()"
   ]
  },
  {
   "cell_type": "code",
   "execution_count": 619,
   "metadata": {
    "collapsed": true
   },
   "outputs": [],
   "source": [
    "# Dense = No. of biases;  Param = No of connections + No. of bias\n",
    "\n",
    "## Layer 0: Input Layer, which is X\n",
    "\n",
    "## Layer 1: Hidden Layer;  No. of Bias = 600;\n",
    "model2_5.add(Dense(600, activation='relu', input_shape=(8,)))\n",
    "\n",
    "## Layer 2: Hidden Layer;  No. of Bias = 500;\n",
    "model2_5.add(Dense(500, activation='relu'))\n",
    "\n",
    "## Layer 3: Hidden Layer;  No. of Bias = 400;\n",
    "model2_5.add(Dense(400, activation='relu'))\n",
    "\n",
    "## Layer 4: Hidden Layer;  No. of Bias = 300;\n",
    "model2_5.add(Dense(300, activation='relu'))\n",
    "\n",
    "## Layer 5: Hidden Layer;  No. of Bias = 200;\n",
    "model2_5.add(Dense(200, activation='relu'))\n",
    "\n",
    "## Layer 6: Hidden Layer;  No. of Bias = 128;\n",
    "model2_5.add(Dense(128, activation='relu'))\n",
    "\n",
    "## Layer 7: Output Layer; No. of Bias = 4(0,1,2,3)\n",
    "model2_5.add(Dense(num_classes, activation='relu'))  "
   ]
  },
  {
   "cell_type": "code",
   "execution_count": 620,
   "metadata": {},
   "outputs": [
    {
     "name": "stdout",
     "output_type": "stream",
     "text": [
      "_________________________________________________________________\n",
      "Layer (type)                 Output Shape              Param #   \n",
      "=================================================================\n",
      "dense_248 (Dense)            (None, 600)               5400      \n",
      "_________________________________________________________________\n",
      "dense_249 (Dense)            (None, 500)               300500    \n",
      "_________________________________________________________________\n",
      "dense_250 (Dense)            (None, 400)               200400    \n",
      "_________________________________________________________________\n",
      "dense_251 (Dense)            (None, 300)               120300    \n",
      "_________________________________________________________________\n",
      "dense_252 (Dense)            (None, 200)               60200     \n",
      "_________________________________________________________________\n",
      "dense_253 (Dense)            (None, 128)               25728     \n",
      "_________________________________________________________________\n",
      "dense_254 (Dense)            (None, 3)                 387       \n",
      "=================================================================\n",
      "Total params: 712,915\n",
      "Trainable params: 712,915\n",
      "Non-trainable params: 0\n",
      "_________________________________________________________________\n"
     ]
    }
   ],
   "source": [
    "model2_5.summary()"
   ]
  },
  {
   "cell_type": "code",
   "execution_count": 621,
   "metadata": {
    "collapsed": true
   },
   "outputs": [],
   "source": [
    "model2_5.compile(optimizer = RMSprop(),\n",
    "                 loss = 'categorical_crossentropy',\n",
    "                 metrics = ['accuracy'])"
   ]
  },
  {
   "cell_type": "code",
   "execution_count": 622,
   "metadata": {},
   "outputs": [
    {
     "name": "stdout",
     "output_type": "stream",
     "text": [
      "Train on 491 samples, validate on 123 samples\n",
      "Epoch 1/10\n",
      "0s - loss: 5.4884 - acc: 0.3849 - val_loss: 0.6003 - val_acc: 0.7398\n",
      "Epoch 2/10\n",
      "0s - loss: 0.6301 - acc: 0.6741 - val_loss: 0.5577 - val_acc: 0.7398\n",
      "Epoch 3/10\n",
      "0s - loss: 0.5731 - acc: 0.6782 - val_loss: 0.6119 - val_acc: 0.7073\n",
      "Epoch 4/10\n",
      "0s - loss: 0.6791 - acc: 0.6497 - val_loss: 0.5212 - val_acc: 0.7398\n",
      "Epoch 5/10\n",
      "0s - loss: 0.5748 - acc: 0.6823 - val_loss: 0.4806 - val_acc: 0.7398\n",
      "Epoch 6/10\n",
      "0s - loss: 0.6413 - acc: 0.6640 - val_loss: 0.5807 - val_acc: 0.6341\n",
      "Epoch 7/10\n",
      "0s - loss: 0.5654 - acc: 0.6701 - val_loss: 0.4872 - val_acc: 0.7398\n",
      "Epoch 8/10\n",
      "0s - loss: 0.6470 - acc: 0.5642 - val_loss: 0.5651 - val_acc: 0.7398\n",
      "Epoch 9/10\n",
      "0s - loss: 0.5980 - acc: 0.6721 - val_loss: 0.5707 - val_acc: 0.6829\n",
      "Epoch 10/10\n",
      "0s - loss: 0.5743 - acc: 0.6599 - val_loss: 0.4873 - val_acc: 0.7317\n"
     ]
    }
   ],
   "source": [
    "model_fit2_5 = model2_5.fit(x_train, \n",
    "                            y2_train, \n",
    "                            batch_size=batch_size, \n",
    "                            epochs=epochs,\n",
    "                            validation_split = .2,\n",
    "                            verbose=2)"
   ]
  },
  {
   "cell_type": "code",
   "execution_count": 623,
   "metadata": {},
   "outputs": [
    {
     "name": "stdout",
     "output_type": "stream",
     "text": [
      "\r",
      " 32/154 [=====>........................] - ETA: 2s"
     ]
    }
   ],
   "source": [
    "y_hat2_5 = model2_5.predict_classes(x_test)"
   ]
  },
  {
   "cell_type": "code",
   "execution_count": 624,
   "metadata": {},
   "outputs": [
    {
     "data": {
      "text/plain": [
       "array([2, 2, 1, 0, 1, 0, 2, 2, 2, 0, 2, 2, 2, 0, 2, 0, 1, 0, 0, 0, 2, 2, 0,\n",
       "       2, 0, 1, 2, 2, 2, 2, 0, 2, 2, 1, 2, 2, 0, 0, 2, 2, 2, 2, 2, 1, 0, 0,\n",
       "       0, 0, 0, 2, 1, 2, 1, 0, 0, 2, 2, 2, 1, 2, 2, 1, 2, 2, 1, 0, 0, 2, 0,\n",
       "       0, 1, 2, 0, 1, 0, 2, 1, 0, 2, 2, 2, 2, 2, 2, 0, 2, 0, 0, 2, 0, 2, 0,\n",
       "       0, 2, 2, 1, 1, 2, 0, 1, 1, 1, 0, 2, 0, 2, 0, 0, 1, 0, 2, 2, 0, 0, 2,\n",
       "       2, 0, 0, 1, 2, 0, 2, 2, 2, 2, 1, 2, 2, 2, 1, 2, 1, 2, 2, 1, 0, 1, 2,\n",
       "       0, 0, 0, 2, 0, 0, 0, 0, 0, 2, 2, 0, 2, 1, 0, 0])"
      ]
     },
     "execution_count": 624,
     "metadata": {},
     "output_type": "execute_result"
    }
   ],
   "source": [
    "y_hat2_5"
   ]
  },
  {
   "cell_type": "code",
   "execution_count": 625,
   "metadata": {},
   "outputs": [
    {
     "data": {
      "text/html": [
       "<div>\n",
       "<table border=\"1\" class=\"dataframe\">\n",
       "  <thead>\n",
       "    <tr style=\"text-align: right;\">\n",
       "      <th>Efficiency_Y2</th>\n",
       "      <th>0</th>\n",
       "      <th>1</th>\n",
       "      <th>2</th>\n",
       "    </tr>\n",
       "    <tr>\n",
       "      <th>row_0</th>\n",
       "      <th></th>\n",
       "      <th></th>\n",
       "      <th></th>\n",
       "    </tr>\n",
       "  </thead>\n",
       "  <tbody>\n",
       "    <tr>\n",
       "      <th>0</th>\n",
       "      <td>46</td>\n",
       "      <td>10</td>\n",
       "      <td>0</td>\n",
       "    </tr>\n",
       "    <tr>\n",
       "      <th>1</th>\n",
       "      <td>11</td>\n",
       "      <td>16</td>\n",
       "      <td>0</td>\n",
       "    </tr>\n",
       "    <tr>\n",
       "      <th>2</th>\n",
       "      <td>0</td>\n",
       "      <td>24</td>\n",
       "      <td>47</td>\n",
       "    </tr>\n",
       "  </tbody>\n",
       "</table>\n",
       "</div>"
      ],
      "text/plain": [
       "Efficiency_Y2   0   1   2\n",
       "row_0                    \n",
       "0              46  10   0\n",
       "1              11  16   0\n",
       "2               0  24  47"
      ]
     },
     "execution_count": 625,
     "metadata": {},
     "output_type": "execute_result"
    }
   ],
   "source": [
    "pd.crosstab(y_hat2_5, Y2_test)"
   ]
  },
  {
   "cell_type": "code",
   "execution_count": 626,
   "metadata": {
    "scrolled": false
   },
   "outputs": [
    {
     "data": {
      "text/plain": [
       "<matplotlib.legend.Legend at 0x7ff894058160>"
      ]
     },
     "execution_count": 626,
     "metadata": {},
     "output_type": "execute_result"
    },
    {
     "data": {
      "image/png": "[encoded data removed]",
      "text/plain": [
       "<matplotlib.figure.Figure at 0x7ff8940f66a0>"
      ]
     },
     "metadata": {},
     "output_type": "display_data"
    }
   ],
   "source": [
    "plt.plot(model_fit2_5.epoch, model_fit2_5.history['acc'],'r', label = 'acc')\n",
    "plt.plot(model_fit2_5.epoch, model_fit2_5.history['val_acc'],'b', label = 'val_acc')\n",
    "plt.xlabel('No. of epochs')\n",
    "plt.ylabel('Val_acc/Acc')\n",
    "plt.legend()"
   ]
  },
  {
   "cell_type": "code",
   "execution_count": 627,
   "metadata": {},
   "outputs": [
    {
     "data": {
      "text/plain": [
       "0.65987780016454323"
      ]
     },
     "execution_count": 627,
     "metadata": {},
     "output_type": "execute_result"
    }
   ],
   "source": [
    "train_acc = model_fit2_5.history['acc'][epochs-1]\n",
    "train_acc"
   ]
  },
  {
   "cell_type": "code",
   "execution_count": 628,
   "metadata": {},
   "outputs": [
    {
     "name": "stdout",
     "output_type": "stream",
     "text": [
      "\r",
      " 32/154 [=====>........................] - ETA: 0s"
     ]
    },
    {
     "data": {
      "text/plain": [
       "0.70779221088855293"
      ]
     },
     "execution_count": 628,
     "metadata": {},
     "output_type": "execute_result"
    }
   ],
   "source": [
    "test_acc = model2_5.evaluate(x_test, y2_test)[1]\n",
    "test_acc"
   ]
  },
  {
   "cell_type": "code",
   "execution_count": 629,
   "metadata": {
    "collapsed": true
   },
   "outputs": [],
   "source": [
    "Cooling_train_accuracy.append(train_acc)\n",
    "Cooling_test_accuracy.append(test_acc)"
   ]
  },
  {
   "cell_type": "markdown",
   "metadata": {},
   "source": [
    "-----"
   ]
  },
  {
   "cell_type": "markdown",
   "metadata": {},
   "source": [
    "## Accuracy"
   ]
  },
  {
   "cell_type": "markdown",
   "metadata": {},
   "source": [
    "##### Heating Load Accuracy"
   ]
  },
  {
   "cell_type": "code",
   "execution_count": 657,
   "metadata": {},
   "outputs": [
    {
     "name": "stdout",
     "output_type": "stream",
     "text": [
      "Heating_train_accuracy = [0.70264765602022472, 0.70061099237919822, 0.64765784004797999, 0.56822810481376418, 0.57230143148884516] \n",
      "\n",
      "Heating Test Accuracy = [0.64285714672757432, 0.70779221166263928, 0.6428571428571429, 0.6103896142600419, 0.59090909013500459]\n"
     ]
    }
   ],
   "source": [
    "print('Heating_train_accuracy =', Heating_train_accuracy, '\\n\\nHeating Test Accuracy =', Heating_test_accuracy) "
   ]
  },
  {
   "cell_type": "code",
   "execution_count": 658,
   "metadata": {},
   "outputs": [
    {
     "data": {
      "text/plain": [
       "[<matplotlib.lines.Line2D at 0x7ff892dadeb8>]"
      ]
     },
     "execution_count": 658,
     "metadata": {},
     "output_type": "execute_result"
    },
    {
     "data": {
      "image/png": "[encoded data removed]",
      "text/plain": [
       "<matplotlib.figure.Figure at 0x7ff892dadc18>"
      ]
     },
     "metadata": {},
     "output_type": "display_data"
    }
   ],
   "source": [
    "plt.plot([0,1,2,3,4],Heating_train_accuracy)\n",
    "plt.plot([0,1,2,3,4], Heating_test_accuracy)"
   ]
  },
  {
   "cell_type": "markdown",
   "metadata": {},
   "source": [
    "##### Cooling Load Accuracy"
   ]
  },
  {
   "cell_type": "code",
   "execution_count": 656,
   "metadata": {},
   "outputs": [
    {
     "name": "stdout",
     "output_type": "stream",
     "text": [
      "Cooling Train Accuracy = [0.64969449919741407, 0.66395111603552359, 0.6904277036729024, 0.67820774367773362, 0.65987780016454323] \n",
      "\n",
      "Cooling Test Accuracy = [0.72077921845696191, 0.61688311688311692, 0.67532467455058898, 0.67532467455058898, 0.70779221088855293]\n"
     ]
    }
   ],
   "source": [
    "print('Cooling Train Accuracy =', Cooling_train_accuracy, '\\n\\nCooling Test Accuracy =', Cooling_test_accuracy) "
   ]
  },
  {
   "cell_type": "code",
   "execution_count": 651,
   "metadata": {},
   "outputs": [
    {
     "data": {
      "text/plain": [
       "[<matplotlib.lines.Line2D at 0x7ff892f26eb8>]"
      ]
     },
     "execution_count": 651,
     "metadata": {},
     "output_type": "execute_result"
    },
    {
     "data": {
      "image/png": "[encoded data removed]",
      "text/plain": [
       "<matplotlib.figure.Figure at 0x7ff892f26358>"
      ]
     },
     "metadata": {},
     "output_type": "display_data"
    }
   ],
   "source": [
    "plt.plot([0,1,2,3,4], Cooling_train_accuracy)\n",
    "plt.plot([0,1,2,3,4], Cooling_test_accuracy)"
   ]
  },
  {
   "cell_type": "markdown",
   "metadata": {},
   "source": [
    "-----"
   ]
  },
  {
   "cell_type": "markdown",
   "metadata": {},
   "source": [
    "## EARLY STOPPING"
   ]
  },
  {
   "cell_type": "code",
   "execution_count": 659,
   "metadata": {
    "scrolled": true
   },
   "outputs": [
    {
     "name": "stdout",
     "output_type": "stream",
     "text": [
      "Train on 491 samples, validate on 123 samples\n",
      "Epoch 1/10\n",
      "0s - loss: 0.7088 - acc: 0.6925 - val_loss: 0.6626 - val_acc: 0.7154\n",
      "Epoch 2/10\n",
      "0s - loss: 0.7020 - acc: 0.7047 - val_loss: 0.6406 - val_acc: 0.7154\n",
      "Epoch 3/10\n",
      "0s - loss: 0.6974 - acc: 0.7047 - val_loss: 0.6468 - val_acc: 0.7073\n",
      "Epoch 4/10\n",
      "0s - loss: 0.7024 - acc: 0.6986 - val_loss: 0.6363 - val_acc: 0.7154\n",
      "Epoch 5/10\n",
      "0s - loss: 0.6927 - acc: 0.7108 - val_loss: 0.6398 - val_acc: 0.7073\n",
      "Epoch 00004: early stopping\n"
     ]
    }
   ],
   "source": [
    "z = [keras.callbacks.EarlyStopping(monitor=\"val_acc\", min_delta=0.01, patience=3, verbose=1, mode='max')]\n",
    "\n",
    "model5_fit = model1_1.fit(x_train, \n",
    "                          y1_train, \n",
    "                          batch_size = batch_size, \n",
    "                          epochs = epochs, \n",
    "                          validation_split = .2,\n",
    "                          verbose = 2,\n",
    "                          callbacks = z\n",
    ")"
   ]
  }
 ],
 "metadata": {
  "kernelspec": {
   "display_name": "Python 3",
   "language": "python",
   "name": "python3"
  },
  "language_info": {
   "codemirror_mode": {
    "name": "ipython",
    "version": 3
   },
   "file_extension": ".py",
   "mimetype": "text/x-python",
   "name": "python",
   "nbconvert_exporter": "python",
   "pygments_lexer": "ipython3",
   "version": "3.6.0"
  }
 },
 "nbformat": 4,
 "nbformat_minor": 2
}
